{
 "cells": [
  {
   "cell_type": "markdown",
   "id": "e03545d1-0537-4cce-a972-ed0278bb2644",
   "metadata": {},
   "source": [
    "# Notebook 2 - 2nd Linear Regression Model"
   ]
  },
  {
   "cell_type": "markdown",
   "id": "acf5e365-4869-46df-bcfb-25595b6ebc32",
   "metadata": {},
   "source": [
    "## Running Imports & Data Cleaning"
   ]
  },
  {
   "cell_type": "code",
   "execution_count": 1,
   "id": "f07e02a5-118b-4c87-a825-0e88e28aac77",
   "metadata": {},
   "outputs": [],
   "source": [
    "import pandas as pd \n",
    "import numpy as np\n",
    "import seaborn as sns\n",
    "import matplotlib.pyplot as plt\n",
    "from sklearn.model_selection import train_test_split, cross_val_score\n",
    "from sklearn.linear_model import LinearRegression\n",
    "from sklearn.preprocessing import StandardScaler, PolynomialFeatures"
   ]
  },
  {
   "cell_type": "markdown",
   "id": "1bb2a5bd-2fac-471d-bfe6-4327f1942e54",
   "metadata": {
    "tags": []
   },
   "source": [
    "* Importing the data and renaming columns for organization\n"
   ]
  },
  {
   "cell_type": "code",
   "execution_count": 2,
   "id": "fc2435e7-53f3-431b-91a2-89d07b7f8b05",
   "metadata": {},
   "outputs": [],
   "source": [
    "dftrain = pd.read_csv(\"./train.csv\")"
   ]
  },
  {
   "cell_type": "code",
   "execution_count": 3,
   "id": "4cf15060-b820-4451-af7d-a757fb41468c",
   "metadata": {},
   "outputs": [
    {
     "data": {
      "text/html": [
       "<div>\n",
       "<style scoped>\n",
       "    .dataframe tbody tr th:only-of-type {\n",
       "        vertical-align: middle;\n",
       "    }\n",
       "\n",
       "    .dataframe tbody tr th {\n",
       "        vertical-align: top;\n",
       "    }\n",
       "\n",
       "    .dataframe thead th {\n",
       "        text-align: right;\n",
       "    }\n",
       "</style>\n",
       "<table border=\"1\" class=\"dataframe\">\n",
       "  <thead>\n",
       "    <tr style=\"text-align: right;\">\n",
       "      <th></th>\n",
       "      <th>Id</th>\n",
       "      <th>PID</th>\n",
       "      <th>MS_SubClass</th>\n",
       "      <th>MS_Zoning</th>\n",
       "      <th>Lot_Frontage</th>\n",
       "      <th>Lot_Area</th>\n",
       "      <th>Street</th>\n",
       "      <th>Alley</th>\n",
       "      <th>Lot_Shape</th>\n",
       "      <th>Land_Contour</th>\n",
       "      <th>...</th>\n",
       "      <th>Screen_Porch</th>\n",
       "      <th>Pool_Area</th>\n",
       "      <th>Pool_QC</th>\n",
       "      <th>Fence</th>\n",
       "      <th>Misc_Feature</th>\n",
       "      <th>Misc_Val</th>\n",
       "      <th>Mo_Sold</th>\n",
       "      <th>Yr_Sold</th>\n",
       "      <th>Sale_Type</th>\n",
       "      <th>SalePrice</th>\n",
       "    </tr>\n",
       "  </thead>\n",
       "  <tbody>\n",
       "    <tr>\n",
       "      <th>0</th>\n",
       "      <td>109</td>\n",
       "      <td>533352170</td>\n",
       "      <td>60</td>\n",
       "      <td>RL</td>\n",
       "      <td>NaN</td>\n",
       "      <td>13517</td>\n",
       "      <td>Pave</td>\n",
       "      <td>NaN</td>\n",
       "      <td>IR1</td>\n",
       "      <td>Lvl</td>\n",
       "      <td>...</td>\n",
       "      <td>0</td>\n",
       "      <td>0</td>\n",
       "      <td>NaN</td>\n",
       "      <td>NaN</td>\n",
       "      <td>NaN</td>\n",
       "      <td>0</td>\n",
       "      <td>3</td>\n",
       "      <td>2010</td>\n",
       "      <td>WD</td>\n",
       "      <td>130500</td>\n",
       "    </tr>\n",
       "    <tr>\n",
       "      <th>1</th>\n",
       "      <td>544</td>\n",
       "      <td>531379050</td>\n",
       "      <td>60</td>\n",
       "      <td>RL</td>\n",
       "      <td>43.0</td>\n",
       "      <td>11492</td>\n",
       "      <td>Pave</td>\n",
       "      <td>NaN</td>\n",
       "      <td>IR1</td>\n",
       "      <td>Lvl</td>\n",
       "      <td>...</td>\n",
       "      <td>0</td>\n",
       "      <td>0</td>\n",
       "      <td>NaN</td>\n",
       "      <td>NaN</td>\n",
       "      <td>NaN</td>\n",
       "      <td>0</td>\n",
       "      <td>4</td>\n",
       "      <td>2009</td>\n",
       "      <td>WD</td>\n",
       "      <td>220000</td>\n",
       "    </tr>\n",
       "    <tr>\n",
       "      <th>2</th>\n",
       "      <td>153</td>\n",
       "      <td>535304180</td>\n",
       "      <td>20</td>\n",
       "      <td>RL</td>\n",
       "      <td>68.0</td>\n",
       "      <td>7922</td>\n",
       "      <td>Pave</td>\n",
       "      <td>NaN</td>\n",
       "      <td>Reg</td>\n",
       "      <td>Lvl</td>\n",
       "      <td>...</td>\n",
       "      <td>0</td>\n",
       "      <td>0</td>\n",
       "      <td>NaN</td>\n",
       "      <td>NaN</td>\n",
       "      <td>NaN</td>\n",
       "      <td>0</td>\n",
       "      <td>1</td>\n",
       "      <td>2010</td>\n",
       "      <td>WD</td>\n",
       "      <td>109000</td>\n",
       "    </tr>\n",
       "    <tr>\n",
       "      <th>3</th>\n",
       "      <td>318</td>\n",
       "      <td>916386060</td>\n",
       "      <td>60</td>\n",
       "      <td>RL</td>\n",
       "      <td>73.0</td>\n",
       "      <td>9802</td>\n",
       "      <td>Pave</td>\n",
       "      <td>NaN</td>\n",
       "      <td>Reg</td>\n",
       "      <td>Lvl</td>\n",
       "      <td>...</td>\n",
       "      <td>0</td>\n",
       "      <td>0</td>\n",
       "      <td>NaN</td>\n",
       "      <td>NaN</td>\n",
       "      <td>NaN</td>\n",
       "      <td>0</td>\n",
       "      <td>4</td>\n",
       "      <td>2010</td>\n",
       "      <td>WD</td>\n",
       "      <td>174000</td>\n",
       "    </tr>\n",
       "    <tr>\n",
       "      <th>4</th>\n",
       "      <td>255</td>\n",
       "      <td>906425045</td>\n",
       "      <td>50</td>\n",
       "      <td>RL</td>\n",
       "      <td>82.0</td>\n",
       "      <td>14235</td>\n",
       "      <td>Pave</td>\n",
       "      <td>NaN</td>\n",
       "      <td>IR1</td>\n",
       "      <td>Lvl</td>\n",
       "      <td>...</td>\n",
       "      <td>0</td>\n",
       "      <td>0</td>\n",
       "      <td>NaN</td>\n",
       "      <td>NaN</td>\n",
       "      <td>NaN</td>\n",
       "      <td>0</td>\n",
       "      <td>3</td>\n",
       "      <td>2010</td>\n",
       "      <td>WD</td>\n",
       "      <td>138500</td>\n",
       "    </tr>\n",
       "  </tbody>\n",
       "</table>\n",
       "<p>5 rows × 81 columns</p>\n",
       "</div>"
      ],
      "text/plain": [
       "    Id        PID  MS_SubClass MS_Zoning  Lot_Frontage  Lot_Area Street Alley  \\\n",
       "0  109  533352170           60        RL           NaN     13517   Pave   NaN   \n",
       "1  544  531379050           60        RL          43.0     11492   Pave   NaN   \n",
       "2  153  535304180           20        RL          68.0      7922   Pave   NaN   \n",
       "3  318  916386060           60        RL          73.0      9802   Pave   NaN   \n",
       "4  255  906425045           50        RL          82.0     14235   Pave   NaN   \n",
       "\n",
       "  Lot_Shape Land_Contour  ... Screen_Porch Pool_Area Pool_QC Fence  \\\n",
       "0       IR1          Lvl  ...            0         0     NaN   NaN   \n",
       "1       IR1          Lvl  ...            0         0     NaN   NaN   \n",
       "2       Reg          Lvl  ...            0         0     NaN   NaN   \n",
       "3       Reg          Lvl  ...            0         0     NaN   NaN   \n",
       "4       IR1          Lvl  ...            0         0     NaN   NaN   \n",
       "\n",
       "  Misc_Feature Misc_Val Mo_Sold Yr_Sold  Sale_Type  SalePrice  \n",
       "0          NaN        0       3    2010        WD      130500  \n",
       "1          NaN        0       4    2009        WD      220000  \n",
       "2          NaN        0       1    2010        WD      109000  \n",
       "3          NaN        0       4    2010        WD      174000  \n",
       "4          NaN        0       3    2010        WD      138500  \n",
       "\n",
       "[5 rows x 81 columns]"
      ]
     },
     "execution_count": 3,
     "metadata": {},
     "output_type": "execute_result"
    }
   ],
   "source": [
    "dftrain.columns = dftrain.columns.str.replace(' ', '_')\n",
    "dftrain.head()"
   ]
  },
  {
   "cell_type": "markdown",
   "id": "626fbdfb-0cc5-47dd-9936-5a58f8ecdeae",
   "metadata": {},
   "source": [
    "* Looking for null values"
   ]
  },
  {
   "cell_type": "code",
   "execution_count": 58,
   "id": "9a8e40d0-a570-406d-9ec8-d04c50250747",
   "metadata": {},
   "outputs": [
    {
     "data": {
      "text/plain": [
       "Id              0\n",
       "PID             0\n",
       "MS_SubClass     0\n",
       "MS_Zoning       0\n",
       "Lot_Frontage    0\n",
       "               ..\n",
       "Misc_Val        0\n",
       "Mo_Sold         0\n",
       "Yr_Sold         0\n",
       "Sale_Type       0\n",
       "SalePrice       0\n",
       "Length: 81, dtype: int64"
      ]
     },
     "execution_count": 58,
     "metadata": {},
     "output_type": "execute_result"
    }
   ],
   "source": [
    "dftrain.dtypes\n",
    "dftrain.isnull().sum()"
   ]
  },
  {
   "cell_type": "markdown",
   "id": "36568184-3fb1-457f-b7c8-a04d9cdf2993",
   "metadata": {},
   "source": [
    "* Investingating the data types in the data"
   ]
  },
  {
   "cell_type": "code",
   "execution_count": 6,
   "id": "befdd21b-3b46-4132-ab19-52d6428e78f9",
   "metadata": {},
   "outputs": [
    {
     "data": {
      "text/plain": [
       "<bound method DataFrame.info of         Id        PID  MS_SubClass MS_Zoning  Lot_Frontage  Lot_Area Street  \\\n",
       "0      109  533352170           60        RL           NaN     13517   Pave   \n",
       "1      544  531379050           60        RL          43.0     11492   Pave   \n",
       "2      153  535304180           20        RL          68.0      7922   Pave   \n",
       "3      318  916386060           60        RL          73.0      9802   Pave   \n",
       "4      255  906425045           50        RL          82.0     14235   Pave   \n",
       "...    ...        ...          ...       ...           ...       ...    ...   \n",
       "2046  1587  921126030           20        RL          79.0     11449   Pave   \n",
       "2047   785  905377130           30        RL           NaN     12342   Pave   \n",
       "2048   916  909253010           50        RL          57.0      7558   Pave   \n",
       "2049   639  535179160           20        RL          80.0     10400   Pave   \n",
       "2050    10  527162130           60        RL          60.0      7500   Pave   \n",
       "\n",
       "     Alley Lot_Shape Land_Contour  ... Screen_Porch Pool_Area Pool_QC Fence  \\\n",
       "0      NaN       IR1          Lvl  ...            0         0     NaN   NaN   \n",
       "1      NaN       IR1          Lvl  ...            0         0     NaN   NaN   \n",
       "2      NaN       Reg          Lvl  ...            0         0     NaN   NaN   \n",
       "3      NaN       Reg          Lvl  ...            0         0     NaN   NaN   \n",
       "4      NaN       IR1          Lvl  ...            0         0     NaN   NaN   \n",
       "...    ...       ...          ...  ...          ...       ...     ...   ...   \n",
       "2046   NaN       IR1          HLS  ...            0         0     NaN   NaN   \n",
       "2047   NaN       IR1          Lvl  ...            0         0     NaN   NaN   \n",
       "2048   NaN       Reg          Bnk  ...            0         0     NaN   NaN   \n",
       "2049   NaN       Reg          Lvl  ...            0         0     NaN   NaN   \n",
       "2050   NaN       Reg          Lvl  ...            0         0     NaN   NaN   \n",
       "\n",
       "     Misc_Feature Misc_Val Mo_Sold Yr_Sold  Sale_Type  SalePrice  \n",
       "0             NaN        0       3    2010        WD      130500  \n",
       "1             NaN        0       4    2009        WD      220000  \n",
       "2             NaN        0       1    2010        WD      109000  \n",
       "3             NaN        0       4    2010        WD      174000  \n",
       "4             NaN        0       3    2010        WD      138500  \n",
       "...           ...      ...     ...     ...        ...        ...  \n",
       "2046          NaN        0       1    2008        WD      298751  \n",
       "2047          NaN        0       3    2009        WD       82500  \n",
       "2048          NaN        0       3    2009        WD      177000  \n",
       "2049          NaN        0      11    2009        WD      144000  \n",
       "2050          NaN        0       6    2010        WD      189000  \n",
       "\n",
       "[2051 rows x 81 columns]>"
      ]
     },
     "execution_count": 6,
     "metadata": {},
     "output_type": "execute_result"
    }
   ],
   "source": [
    "dftrain.info"
   ]
  },
  {
   "cell_type": "code",
   "execution_count": 7,
   "id": "b268b010-a2bd-4b61-809a-a322de781600",
   "metadata": {},
   "outputs": [
    {
     "data": {
      "text/html": [
       "<div>\n",
       "<style scoped>\n",
       "    .dataframe tbody tr th:only-of-type {\n",
       "        vertical-align: middle;\n",
       "    }\n",
       "\n",
       "    .dataframe tbody tr th {\n",
       "        vertical-align: top;\n",
       "    }\n",
       "\n",
       "    .dataframe thead th {\n",
       "        text-align: right;\n",
       "    }\n",
       "</style>\n",
       "<table border=\"1\" class=\"dataframe\">\n",
       "  <thead>\n",
       "    <tr style=\"text-align: right;\">\n",
       "      <th></th>\n",
       "      <th>Id</th>\n",
       "      <th>PID</th>\n",
       "      <th>MS_SubClass</th>\n",
       "      <th>MS_Zoning</th>\n",
       "      <th>Lot_Frontage</th>\n",
       "      <th>Lot_Area</th>\n",
       "      <th>Street</th>\n",
       "      <th>Alley</th>\n",
       "      <th>Lot_Shape</th>\n",
       "      <th>Land_Contour</th>\n",
       "      <th>...</th>\n",
       "      <th>Screen_Porch</th>\n",
       "      <th>Pool_Area</th>\n",
       "      <th>Pool_QC</th>\n",
       "      <th>Fence</th>\n",
       "      <th>Misc_Feature</th>\n",
       "      <th>Misc_Val</th>\n",
       "      <th>Mo_Sold</th>\n",
       "      <th>Yr_Sold</th>\n",
       "      <th>Sale_Type</th>\n",
       "      <th>SalePrice</th>\n",
       "    </tr>\n",
       "  </thead>\n",
       "  <tbody>\n",
       "    <tr>\n",
       "      <th>0</th>\n",
       "      <td>109</td>\n",
       "      <td>533352170</td>\n",
       "      <td>60</td>\n",
       "      <td>RL</td>\n",
       "      <td>0.0</td>\n",
       "      <td>13517</td>\n",
       "      <td>Pave</td>\n",
       "      <td>0</td>\n",
       "      <td>IR1</td>\n",
       "      <td>Lvl</td>\n",
       "      <td>...</td>\n",
       "      <td>0</td>\n",
       "      <td>0</td>\n",
       "      <td>0</td>\n",
       "      <td>0</td>\n",
       "      <td>0</td>\n",
       "      <td>0</td>\n",
       "      <td>3</td>\n",
       "      <td>2010</td>\n",
       "      <td>WD</td>\n",
       "      <td>130500</td>\n",
       "    </tr>\n",
       "    <tr>\n",
       "      <th>1</th>\n",
       "      <td>544</td>\n",
       "      <td>531379050</td>\n",
       "      <td>60</td>\n",
       "      <td>RL</td>\n",
       "      <td>43.0</td>\n",
       "      <td>11492</td>\n",
       "      <td>Pave</td>\n",
       "      <td>0</td>\n",
       "      <td>IR1</td>\n",
       "      <td>Lvl</td>\n",
       "      <td>...</td>\n",
       "      <td>0</td>\n",
       "      <td>0</td>\n",
       "      <td>0</td>\n",
       "      <td>0</td>\n",
       "      <td>0</td>\n",
       "      <td>0</td>\n",
       "      <td>4</td>\n",
       "      <td>2009</td>\n",
       "      <td>WD</td>\n",
       "      <td>220000</td>\n",
       "    </tr>\n",
       "    <tr>\n",
       "      <th>2</th>\n",
       "      <td>153</td>\n",
       "      <td>535304180</td>\n",
       "      <td>20</td>\n",
       "      <td>RL</td>\n",
       "      <td>68.0</td>\n",
       "      <td>7922</td>\n",
       "      <td>Pave</td>\n",
       "      <td>0</td>\n",
       "      <td>Reg</td>\n",
       "      <td>Lvl</td>\n",
       "      <td>...</td>\n",
       "      <td>0</td>\n",
       "      <td>0</td>\n",
       "      <td>0</td>\n",
       "      <td>0</td>\n",
       "      <td>0</td>\n",
       "      <td>0</td>\n",
       "      <td>1</td>\n",
       "      <td>2010</td>\n",
       "      <td>WD</td>\n",
       "      <td>109000</td>\n",
       "    </tr>\n",
       "    <tr>\n",
       "      <th>3</th>\n",
       "      <td>318</td>\n",
       "      <td>916386060</td>\n",
       "      <td>60</td>\n",
       "      <td>RL</td>\n",
       "      <td>73.0</td>\n",
       "      <td>9802</td>\n",
       "      <td>Pave</td>\n",
       "      <td>0</td>\n",
       "      <td>Reg</td>\n",
       "      <td>Lvl</td>\n",
       "      <td>...</td>\n",
       "      <td>0</td>\n",
       "      <td>0</td>\n",
       "      <td>0</td>\n",
       "      <td>0</td>\n",
       "      <td>0</td>\n",
       "      <td>0</td>\n",
       "      <td>4</td>\n",
       "      <td>2010</td>\n",
       "      <td>WD</td>\n",
       "      <td>174000</td>\n",
       "    </tr>\n",
       "    <tr>\n",
       "      <th>4</th>\n",
       "      <td>255</td>\n",
       "      <td>906425045</td>\n",
       "      <td>50</td>\n",
       "      <td>RL</td>\n",
       "      <td>82.0</td>\n",
       "      <td>14235</td>\n",
       "      <td>Pave</td>\n",
       "      <td>0</td>\n",
       "      <td>IR1</td>\n",
       "      <td>Lvl</td>\n",
       "      <td>...</td>\n",
       "      <td>0</td>\n",
       "      <td>0</td>\n",
       "      <td>0</td>\n",
       "      <td>0</td>\n",
       "      <td>0</td>\n",
       "      <td>0</td>\n",
       "      <td>3</td>\n",
       "      <td>2010</td>\n",
       "      <td>WD</td>\n",
       "      <td>138500</td>\n",
       "    </tr>\n",
       "  </tbody>\n",
       "</table>\n",
       "<p>5 rows × 81 columns</p>\n",
       "</div>"
      ],
      "text/plain": [
       "    Id        PID  MS_SubClass MS_Zoning  Lot_Frontage  Lot_Area Street Alley  \\\n",
       "0  109  533352170           60        RL           0.0     13517   Pave     0   \n",
       "1  544  531379050           60        RL          43.0     11492   Pave     0   \n",
       "2  153  535304180           20        RL          68.0      7922   Pave     0   \n",
       "3  318  916386060           60        RL          73.0      9802   Pave     0   \n",
       "4  255  906425045           50        RL          82.0     14235   Pave     0   \n",
       "\n",
       "  Lot_Shape Land_Contour  ... Screen_Porch Pool_Area Pool_QC Fence  \\\n",
       "0       IR1          Lvl  ...            0         0       0     0   \n",
       "1       IR1          Lvl  ...            0         0       0     0   \n",
       "2       Reg          Lvl  ...            0         0       0     0   \n",
       "3       Reg          Lvl  ...            0         0       0     0   \n",
       "4       IR1          Lvl  ...            0         0       0     0   \n",
       "\n",
       "  Misc_Feature Misc_Val Mo_Sold Yr_Sold  Sale_Type  SalePrice  \n",
       "0            0        0       3    2010        WD      130500  \n",
       "1            0        0       4    2009        WD      220000  \n",
       "2            0        0       1    2010        WD      109000  \n",
       "3            0        0       4    2010        WD      174000  \n",
       "4            0        0       3    2010        WD      138500  \n",
       "\n",
       "[5 rows x 81 columns]"
      ]
     },
     "execution_count": 7,
     "metadata": {},
     "output_type": "execute_result"
    }
   ],
   "source": [
    "dftrain.fillna(0, inplace = True)\n",
    "dftrain.head()\n"
   ]
  },
  {
   "cell_type": "markdown",
   "id": "a7395d5b-d166-44e8-b2e1-21312eecdce2",
   "metadata": {},
   "source": [
    "* Revisiting Correlation"
   ]
  },
  {
   "cell_type": "code",
   "execution_count": 8,
   "id": "64cf3bf4-ecfb-455f-bf36-90ef3f4b80cb",
   "metadata": {
    "tags": []
   },
   "outputs": [
    {
     "data": {
      "text/plain": [
       "Id                -0.051398\n",
       "PID               -0.255052\n",
       "MS_SubClass       -0.087335\n",
       "Lot_Frontage       0.181456\n",
       "Lot_Area           0.296566\n",
       "Overall_Qual       0.800207\n",
       "Overall_Cond      -0.097019\n",
       "Year_Built         0.571849\n",
       "Year_Remod/Add     0.550370\n",
       "Mas_Vnr_Area       0.503579\n",
       "BsmtFin_SF_1       0.423856\n",
       "BsmtFin_SF_2       0.016432\n",
       "Bsmt_Unf_SF        0.190861\n",
       "Total_Bsmt_SF      0.629303\n",
       "1st_Flr_SF         0.618486\n",
       "2nd_Flr_SF         0.248452\n",
       "Low_Qual_Fin_SF   -0.041594\n",
       "Gr_Liv_Area        0.697038\n",
       "Bsmt_Full_Bath     0.283332\n",
       "Bsmt_Half_Bath    -0.045290\n",
       "Full_Bath          0.537969\n",
       "Half_Bath          0.283001\n",
       "Bedroom_AbvGr      0.137067\n",
       "Kitchen_AbvGr     -0.125444\n",
       "TotRms_AbvGrd      0.504014\n",
       "Fireplaces         0.471093\n",
       "Garage_Yr_Blt      0.258645\n",
       "Garage_Cars        0.647781\n",
       "Garage_Area        0.649897\n",
       "Wood_Deck_SF       0.326490\n",
       "Open_Porch_SF      0.333476\n",
       "Enclosed_Porch    -0.135656\n",
       "3Ssn_Porch         0.048732\n",
       "Screen_Porch       0.134581\n",
       "Pool_Area          0.023106\n",
       "Misc_Val          -0.007375\n",
       "Mo_Sold            0.032735\n",
       "Yr_Sold           -0.015203\n",
       "SalePrice          1.000000\n",
       "Name: SalePrice, dtype: float64"
      ]
     },
     "execution_count": 8,
     "metadata": {},
     "output_type": "execute_result"
    }
   ],
   "source": [
    "dftrain.corr()['SalePrice']"
   ]
  },
  {
   "cell_type": "code",
   "execution_count": 9,
   "id": "932fdb19-be8e-4ad5-baa5-2377c022676b",
   "metadata": {},
   "outputs": [],
   "source": [
    "tempfeat = dftrain[['SalePrice','Overall_Qual', 'Year_Built', 'Total_Bsmt_SF','1st_Flr_SF','Gr_Liv_Area','Garage_Cars','Garage_Area']]"
   ]
  },
  {
   "cell_type": "code",
   "execution_count": 68,
   "id": "44621af6-3b6a-4a4a-acfc-92ce04a2ffa5",
   "metadata": {},
   "outputs": [
    {
     "data": {
      "image/png": "[encoded data removed]",
      "text/plain": [
       "<Figure size 640x480 with 2 Axes>"
      ]
     },
     "metadata": {},
     "output_type": "display_data"
    }
   ],
   "source": [
    "corr = tempfeat.corr()[['SalePrice']]\n",
    "mask = np.zeros_like(corr)\n",
    "mask[np.triu_indices_from(mask)] = True\n",
    "\n",
    "sns.heatmap(corr,\n",
    "           cmap = 'coolwarm',\n",
    "           annot = True,\n",
    "           mask = mask,)\n",
    "\n",
    "plt.title('Correlation to Sales Price by Percentage')\n",
    "plt.ylabel('Feature')\n",
    "\n",
    "plt.tight_layout()\n",
    "plt.savefig('../images/correlation with sales price.jpg')"
   ]
  },
  {
   "cell_type": "markdown",
   "id": "beb28e34-aa68-45c6-ba51-087e0eff8449",
   "metadata": {},
   "source": [
    "# Prepping the Model"
   ]
  },
  {
   "cell_type": "code",
   "execution_count": 13,
   "id": "857cb992-1b5b-4565-8742-9174a1c41c07",
   "metadata": {
    "tags": []
   },
   "outputs": [],
   "source": [
    "X = dftrain[['Overall_Qual', 'Year_Built', 'Total_Bsmt_SF','1st_Flr_SF','Gr_Liv_Area','Garage_Cars','Garage_Area']]\n",
    "y = dftrain['SalePrice']"
   ]
  },
  {
   "cell_type": "code",
   "execution_count": 14,
   "id": "1d9db1f4-f7f7-4888-b844-a057d9960520",
   "metadata": {},
   "outputs": [
    {
     "data": {
      "text/plain": [
       "Overall_Qual       int64\n",
       "Year_Built         int64\n",
       "Total_Bsmt_SF    float64\n",
       "1st_Flr_SF         int64\n",
       "Gr_Liv_Area        int64\n",
       "Garage_Cars      float64\n",
       "Garage_Area      float64\n",
       "dtype: object"
      ]
     },
     "execution_count": 14,
     "metadata": {},
     "output_type": "execute_result"
    }
   ],
   "source": [
    "X.dtypes"
   ]
  },
  {
   "cell_type": "code",
   "execution_count": 15,
   "id": "d6daad77-fb1a-4d32-b850-d3cf290cd13a",
   "metadata": {},
   "outputs": [
    {
     "name": "stdout",
     "output_type": "stream",
     "text": [
      "(2051, 7)\n",
      "(2051,)\n"
     ]
    }
   ],
   "source": [
    "print(X.shape)\n",
    "print(y.shape)"
   ]
  },
  {
   "cell_type": "markdown",
   "id": "c16ee8ba-fb5b-4ff8-8697-3aa76b538c2b",
   "metadata": {},
   "source": [
    "### Train / Test SPlit"
   ]
  },
  {
   "cell_type": "code",
   "execution_count": 16,
   "id": "ab8b2258-e308-47c7-abdd-a31a2119c632",
   "metadata": {},
   "outputs": [],
   "source": [
    "X_train, X_test, y_train, y_test = train_test_split(X, y, random_state=42)\n"
   ]
  },
  {
   "cell_type": "code",
   "execution_count": 17,
   "id": "9255fa9f-6303-4e12-abd7-acfb9257b1d1",
   "metadata": {},
   "outputs": [
    {
     "data": {
      "text/plain": [
       "((1538, 7), (1538,))"
      ]
     },
     "execution_count": 17,
     "metadata": {},
     "output_type": "execute_result"
    }
   ],
   "source": [
    "X_train.shape, y_train.shape"
   ]
  },
  {
   "cell_type": "code",
   "execution_count": 18,
   "id": "8d1d29fe-213b-4cb1-8493-3c9d7148f326",
   "metadata": {},
   "outputs": [
    {
     "data": {
      "text/plain": [
       "((513, 7), (513,))"
      ]
     },
     "execution_count": 18,
     "metadata": {},
     "output_type": "execute_result"
    }
   ],
   "source": [
    "X_test.shape, y_test.shape\n"
   ]
  },
  {
   "cell_type": "markdown",
   "id": "0315a909-8b82-4a06-9871-4831a21981fd",
   "metadata": {},
   "source": [
    "### Instantiating & Fitting the Model"
   ]
  },
  {
   "cell_type": "code",
   "execution_count": 19,
   "id": "26e6a042-25e2-443e-909b-8e5c0cda9bf3",
   "metadata": {},
   "outputs": [],
   "source": [
    "lr = LinearRegression()"
   ]
  },
  {
   "cell_type": "code",
   "execution_count": 20,
   "id": "093d8385-16e4-4ed6-ae96-19895a84158b",
   "metadata": {},
   "outputs": [
    {
     "data": {
      "text/plain": [
       "LinearRegression()"
      ]
     },
     "execution_count": 20,
     "metadata": {},
     "output_type": "execute_result"
    }
   ],
   "source": [
    "lr.fit(X_train, y_train)"
   ]
  },
  {
   "cell_type": "markdown",
   "id": "60019673-33d3-45ad-a3cb-e94f34020e74",
   "metadata": {},
   "source": [
    "### Scoring The Model"
   ]
  },
  {
   "cell_type": "code",
   "execution_count": 21,
   "id": "2224370a-00d6-4da1-b9b9-2b7c6fad5b50",
   "metadata": {},
   "outputs": [
    {
     "data": {
      "text/plain": [
       "0.771226359785583"
      ]
     },
     "execution_count": 21,
     "metadata": {},
     "output_type": "execute_result"
    }
   ],
   "source": [
    "lr.score(X_train, y_train)"
   ]
  },
  {
   "cell_type": "code",
   "execution_count": 22,
   "id": "05ae08c3-be47-4ee6-8b8b-cd8fb1375b17",
   "metadata": {},
   "outputs": [
    {
     "data": {
      "text/plain": [
       "0.7536505787148194"
      ]
     },
     "execution_count": 22,
     "metadata": {},
     "output_type": "execute_result"
    }
   ],
   "source": [
    "cross_val_score(lr, X_train, y_train).mean()"
   ]
  },
  {
   "cell_type": "code",
   "execution_count": 25,
   "id": "38a5e7d1-05ff-472c-9f13-c882591c5eb1",
   "metadata": {},
   "outputs": [
    {
     "name": "stdout",
     "output_type": "stream",
     "text": [
      "0.7536505787148194\n",
      "0.8342730388745225\n"
     ]
    }
   ],
   "source": [
    "print(cross_val_score(lr, X_train, y_train).mean())\n",
    "print(cross_val_score(lr, X_test, y_test).mean())"
   ]
  },
  {
   "cell_type": "code",
   "execution_count": 42,
   "id": "2f64bc08-1994-4575-bcbf-6b83ab33c823",
   "metadata": {},
   "outputs": [
    {
     "name": "stdout",
     "output_type": "stream",
     "text": [
      "0.771226359785583\n",
      "0.8329894332273049\n"
     ]
    }
   ],
   "source": [
    "print(lr.score(X_train, y_train))\n",
    "print(lr.score(X_test, y_test))"
   ]
  },
  {
   "cell_type": "code",
   "execution_count": 26,
   "id": "2b271c02-b7bc-4ad3-9686-0515a0f634c3",
   "metadata": {},
   "outputs": [
    {
     "data": {
      "text/plain": [
       "array([132937.92093299, 228834.01576333, 269267.36898945, 146132.47105758,\n",
       "       219299.75987184, 309584.92339653, 184442.02721777, 279930.91518921,\n",
       "       165758.82973079,  97457.96825283, 136256.75424952, 222579.09270163,\n",
       "       177263.60474811, 115764.06260367, 134918.27894941, 113647.0862636 ,\n",
       "       125878.24594844, 213946.69255366, 327851.87407028, 232782.22661584,\n",
       "       210744.64834493, 215001.54059536, 187730.52028052,  91954.85219872,\n",
       "       138550.98397798, 261038.14206749, 186339.79621031, 128154.84105225,\n",
       "       248302.52186332,  82150.12756858, 295578.00538224, 103582.91867252,\n",
       "       130007.07062752, 200559.28899193, 218475.26420082,  83621.51269585,\n",
       "       169068.72728604, 222138.26109315, 308695.40171085, 114641.15200657,\n",
       "       224627.79435717, 229932.73788617, 306926.3353696 , 178731.95302649,\n",
       "        88326.19497953, 179228.37733754, 115220.16928673, 104215.38018072,\n",
       "       296835.01755619, 141185.50052127, 312027.52674406,  46275.1092312 ,\n",
       "       128794.42528475, 221109.95862329, 131744.18637293, 114044.09998106,\n",
       "       239183.80450419, 211905.5425008 , 114014.16481531, 177343.70518405,\n",
       "       286244.2211183 ,  65860.7076218 , 178015.77073789, 242497.96842676,\n",
       "       208548.23267189,  78097.896165  , 280991.91455237, 229474.35913841,\n",
       "       290703.12327524, 126019.44420018, 217931.75409274, 309659.20164135,\n",
       "       318550.94230204, 194552.6271878 , 128192.24585266, 200768.9170869 ,\n",
       "       192340.38979354, 142403.28404373, 151486.97692803, 283451.75942495,\n",
       "       118398.77022018, 102346.84414993, 297479.72078811, 149950.17219286,\n",
       "       115092.47043872, 110645.79243819, 117121.11776001, 240279.87065123,\n",
       "        55608.07725896, 162893.94635129, 200984.54427116, 172431.67843108,\n",
       "       132137.18654054, 197087.20677401, 146616.29219954, 219199.33804492,\n",
       "       147342.84659254, 122972.64698503, 211200.08150724, 160951.05685288,\n",
       "       144343.57116116, 287847.52560578,  71121.01887827, 221998.72053629,\n",
       "       182931.92014045, 141777.11349266, 119549.22615181, 149745.58643659,\n",
       "       140774.25736933, 165656.92833217,  44640.18151999, 180020.06798486,\n",
       "       117610.69622288, 307809.67881968,  73351.15565636, 225092.98680162,\n",
       "       201095.113022  , 140847.89452668, 123644.66654894, 152733.60665125,\n",
       "       214267.37038015, 112864.56674297, 242289.78055036, 176253.3922866 ,\n",
       "       231990.84530868, 226240.7911473 , 139696.17395515, 265460.92239283,\n",
       "       228463.91549144, 124155.1156575 , 175005.29013896, 120971.71051992,\n",
       "       124028.42637289, 330362.21846888, 171196.4850971 , 159380.7435965 ,\n",
       "        86008.6208444 , 142421.4649391 , 190806.3112656 , 178548.75078057,\n",
       "        65540.02979531,   6190.14804658, 115180.97721323,  75406.14459299,\n",
       "       249918.26628963, 219747.31039311, 349065.41589853, 187085.89627004,\n",
       "       128445.81895992, 184117.40791087, 104260.58322695, 129223.4751318 ,\n",
       "       118687.42592833, 264861.09853347, 130548.09058897, 189281.59060891,\n",
       "       247236.58101697, 175674.36381917, 148990.43260678, 199195.99592182,\n",
       "       116933.22790878, 260461.47424776, 121193.32198615, 177481.13838025,\n",
       "        89799.77313883, 194111.56372239, 141021.21223393, 200534.78454196,\n",
       "       156393.08541899, 257942.55208427, 242872.50483068, 139135.3081858 ,\n",
       "       122719.79067402, 207531.64912451, 185056.67164935, 151423.81690777,\n",
       "       271192.8761486 , 114980.55974661, 121592.53638187, 118885.42491892,\n",
       "       230570.04479265, 158551.2074329 , 175682.67258272, 194613.04563643,\n",
       "        95301.64661714, 189415.28752875, 179756.81643931, 147043.38384286,\n",
       "       154782.19633707, 136899.49106958, 237758.35813748, 126519.60160141,\n",
       "       126975.4823922 ,   7334.48201939, 218116.44485079, 175400.3818913 ,\n",
       "        88616.39860823, 287576.3830077 , 187359.94638631, 268319.53852161,\n",
       "       207853.42392846, 116968.14968916, 194368.2052127 , 142604.20777836,\n",
       "       134402.51120176, 111699.26197088, 175006.84476304, 133803.43802743,\n",
       "       114772.9470162 , 233051.3579024 , 152277.59990427, 351420.11814486,\n",
       "       163888.90583475, 138071.97465806, 364893.65063238, 213661.14608133,\n",
       "       275959.62514885, 166232.36567643, 271053.020686  , 132680.13447753,\n",
       "       116272.34594575, 177109.48306958, 149079.57476663, 209584.53793005,\n",
       "        85412.39573885, 233974.06403026, 213409.4040259 , 112493.39968875,\n",
       "        73708.06929337, 199620.28353007, 128822.46199797, 114573.68940248,\n",
       "       173462.75677904, 167280.82135546, 168264.1400049 ,  92109.19125632,\n",
       "       192556.2266154 ,  78554.3356726 , 144306.76416076, 207853.42392846,\n",
       "       250004.61359379, 147376.71411896, 133027.00168192, 172076.56435404,\n",
       "       130395.96191903, 216331.67465768, 299464.83083909, 181228.46690685,\n",
       "       134693.6053367 , 246442.77392389, 247378.96626148, 306819.43370117,\n",
       "       204001.32839614, 213077.9840864 , 212360.45576855, 170380.31098061,\n",
       "       184429.15010487, 101888.64848757, 337154.79031351, 250194.25139594,\n",
       "       242634.47556647,  91229.77169927, 203514.03386495, 186882.36055876,\n",
       "       305985.75026056, 161746.91019803, 229089.97552627, 163701.10794415,\n",
       "       142710.11990715, 296982.67626501, 137861.93471751, 164346.5780573 ,\n",
       "        79701.42490552, 257822.21151696, 160916.28337767, 329622.24601708,\n",
       "       323680.08777482, 222104.36550872, 192951.18014678, 165774.1033042 ,\n",
       "        88451.25529566, 186737.71113502, 161114.56927416, 189194.59290801,\n",
       "         -816.39512447, 243437.14117655,  99027.26024732, 104640.29322895,\n",
       "       121060.89790431, 158605.20470245, 207853.42392846, 180026.94631585,\n",
       "       140271.54723459, 183569.69672076, 172096.0836991 , 183607.30237099,\n",
       "        67664.53759413, 109334.79592855, 187604.23254938, 226689.89155751,\n",
       "       136254.22665139, 290598.47720679, 277650.03965858, 187338.20636591,\n",
       "       181174.1971954 , 229707.49108147, 174526.03820804, 188449.37716183,\n",
       "       192281.1082516 , 186041.87603355, 112200.99120729,  74150.50421904,\n",
       "       215369.77269063, 142013.22194054, 146909.30226892, 205797.21316364,\n",
       "       173104.83887862, 119593.76657298, 228505.82284527, 185744.76930357,\n",
       "       228437.38343238, 136440.4885248 , 151704.83512322, 149366.49242645,\n",
       "       160528.84969795,  96853.7491305 , 166158.88908615, 211555.2113001 ,\n",
       "       264267.2231493 ,  88168.09392509, 123225.29058176, 159156.62392471,\n",
       "       219219.10180567, 317357.96921674, 137167.43130371, 126519.60160141,\n",
       "       347847.25305393, 198470.35026393, 310254.18115104, 199637.74857541,\n",
       "       218152.61269423, 162594.32700256, 163392.88945466, 254548.04207595,\n",
       "       229287.33348671, 215369.77269063, 124260.13245666, 284461.80031292,\n",
       "        75409.88877993,  96163.86058354,  64139.64259742, 111966.09157483,\n",
       "       113760.33790559, 304573.98850589, 271457.68874821, 154717.48245378,\n",
       "       242617.22086632, 265440.97253933,  -7460.32446272, 183453.99853765,\n",
       "       202423.95222869, 306027.56617114, 139444.1644358 , 154180.95236746,\n",
       "       228462.36163391, 226866.79278056, 235028.48651342, 206669.48910966,\n",
       "       255667.66400344, 279267.00953694, 124013.97243192, 131278.82353057,\n",
       "       224193.4142622 , 208459.2665111 , 141363.01860675, 305023.54345514,\n",
       "       145490.54444477, 189115.64632051, 213698.18082078, 164373.45116869,\n",
       "        93932.99332811, 223045.15900519, 270739.47600277, 227923.71148381,\n",
       "       234897.76960256, 117007.07763848, 169123.20446613, 222354.19608161,\n",
       "       123166.88353905, 129837.05426001, 111589.67010217, 330167.05196574,\n",
       "       192864.30095079, 145740.67632595, 241073.90546716, 189048.18269505,\n",
       "       187730.52028052, 220545.59689684, 222757.62342721, 107086.62846315,\n",
       "       123229.00086986, 181425.00390694, 188804.87188687, 201106.99337872,\n",
       "       215504.14921848, 208077.42036902, 232718.57595751,  22476.78729521,\n",
       "       278514.98273605, 263183.11794919, 276687.82290445, 192475.80150688,\n",
       "       300529.16886243, 182787.2736298 , 266789.90122121, 189157.44182918,\n",
       "       180520.07777416,  88883.53772455, 175765.51180922,  96743.71937605,\n",
       "       295313.8009044 , 244169.80872743, 115273.15732346, 225719.55504111,\n",
       "       102811.39574515, 238907.19955619, 110970.02728981,  94349.35966475,\n",
       "       301731.14746136, 269299.16972274, 274953.25243275, 239704.16756833,\n",
       "        64634.96398043, 202298.16375384, 112240.09943575, 141544.57504498,\n",
       "       270735.67040173, 298821.16244733, 151160.64525549, 110041.65982881,\n",
       "       142791.89930016, 119777.03305744, 147918.04057772, 100805.84604455,\n",
       "       290862.60522809, 234768.12645128, 189007.60627405, 196986.08109244,\n",
       "       228185.18327959, 274096.02904825, 156326.41681673, 147860.75861268,\n",
       "       149842.31317764, 198387.51098264, 158156.54724872,  61803.62299887,\n",
       "       385060.76838985, 291659.600452  , 287323.07702866, 215077.30710895,\n",
       "       168236.66239436, 137538.82435484, 250310.38310091, 220279.55286085,\n",
       "       165864.19180121, 146816.41905281, 112148.80503437, 181442.07556693,\n",
       "       197655.40176101, 198512.62814303, 214218.60642734,  84202.58762109,\n",
       "       324602.96627108, 154304.69354076, 131883.51221594, 325291.98837581,\n",
       "       283319.77046913,  89843.30782863, 147615.34304057, 205550.54125642,\n",
       "       114787.30368428,  84420.80788976, 213284.58185232, 125145.58179941,\n",
       "       135075.20571685, 288284.75790723, 128596.19053496, 299280.73737828,\n",
       "       202210.32887473, 245391.90564785, 117782.1169533 , 158028.57903181,\n",
       "       215051.87430886, 110901.03762154, 147489.02485117, 209532.51002138,\n",
       "       146214.45983585,  84678.93900759, 209116.43312958, 205733.96848886,\n",
       "       141709.73112673, 186822.01128231, 273997.01366023, 169676.51233182,\n",
       "       124899.88493468, 219717.47084059, 294168.09426429, 133131.24673144,\n",
       "       169681.24273071, 105291.92884713, 152172.63296722, 104515.74519536,\n",
       "       270365.89539017])"
      ]
     },
     "execution_count": 26,
     "metadata": {},
     "output_type": "execute_result"
    }
   ],
   "source": [
    "lr.predict(X_test)"
   ]
  },
  {
   "cell_type": "markdown",
   "id": "c680ddf2-b599-4ff7-8ccf-3bff339388c1",
   "metadata": {},
   "source": [
    "### METRICS"
   ]
  },
  {
   "cell_type": "code",
   "execution_count": 38,
   "id": "d5f39a55-05fb-4d19-b377-9a41d3ea52ac",
   "metadata": {},
   "outputs": [],
   "source": [
    "predictions = lr.predict(X)"
   ]
  },
  {
   "cell_type": "code",
   "execution_count": 39,
   "id": "ee320d9c-7703-4c8e-97c1-cef0902b5e1e",
   "metadata": {},
   "outputs": [],
   "source": [
    "residuals = y - predictions"
   ]
  },
  {
   "cell_type": "code",
   "execution_count": 57,
   "id": "c75b91d8-70ca-4152-8fdb-e4289a20f6a3",
   "metadata": {},
   "outputs": [
    {
     "data": {
      "text/plain": [
       "<matplotlib.collections.PathCollection at 0x7fbc884c4640>"
      ]
     },
     "execution_count": 57,
     "metadata": {},
     "output_type": "execute_result"
    },
    {
     "data": {
      "image/png": "[encoded data removed]",
      "text/plain": [
       "<Figure size 640x480 with 1 Axes>"
      ]
     },
     "metadata": {},
     "output_type": "display_data"
    }
   ],
   "source": [
    "plt.scatter(predictions, residuals)"
   ]
  },
  {
   "cell_type": "markdown",
   "id": "be78df1c-1431-4e34-b47a-b1da1a1fa1a6",
   "metadata": {},
   "source": [
    "### Normality of errors"
   ]
  },
  {
   "cell_type": "code",
   "execution_count": 31,
   "id": "7e19d8fb-87b3-48c5-9b71-ca66d880673c",
   "metadata": {},
   "outputs": [
    {
     "data": {
      "image/png": "[encoded data removed]",
      "text/plain": [
       "<Figure size 640x480 with 1 Axes>"
      ]
     },
     "metadata": {},
     "output_type": "display_data"
    }
   ],
   "source": [
    "\n",
    "plt.hist(residuals, bins=50);"
   ]
  },
  {
   "cell_type": "markdown",
   "id": "1eed7fdc-fad7-461c-a8e6-256195ad0133",
   "metadata": {},
   "source": [
    "### Equal variance of errors"
   ]
  },
  {
   "cell_type": "code",
   "execution_count": 32,
   "id": "8bf80490-f7e7-477b-b4e7-37759ea0feed",
   "metadata": {
    "tags": []
   },
   "outputs": [
    {
     "data": {
      "image/png": "[encoded data removed]",
      "text/plain": [
       "<Figure size 640x480 with 1 Axes>"
      ]
     },
     "metadata": {},
     "output_type": "display_data"
    }
   ],
   "source": [
    "plt.scatter(y, residuals, s=1)\n",
    "plt.axhline(0, color=\"orange\");"
   ]
  },
  {
   "cell_type": "markdown",
   "id": "3732ce63-1ec3-459d-ab61-d1b2a9723cd2",
   "metadata": {},
   "source": [
    "### Mean Squared Error"
   ]
  },
  {
   "cell_type": "code",
   "execution_count": 59,
   "id": "c7cfa144-f47d-4e01-a599-d61abb6f34ff",
   "metadata": {},
   "outputs": [
    {
     "data": {
      "text/plain": [
       "1341473519.3195395"
      ]
     },
     "execution_count": 59,
     "metadata": {},
     "output_type": "execute_result"
    }
   ],
   "source": [
    "from sklearn import metrics\n",
    "metrics.mean_squared_error(y, predictions)"
   ]
  },
  {
   "cell_type": "code",
   "execution_count": null,
   "id": "aa13752c-23ec-447c-a096-721879c48ed6",
   "metadata": {},
   "outputs": [],
   "source": []
  },
  {
   "cell_type": "code",
   "execution_count": null,
   "id": "c707a684-ef1a-4c3e-84dd-d96a14b82eef",
   "metadata": {},
   "outputs": [],
   "source": []
  },
  {
   "cell_type": "markdown",
   "id": "4a24baa7-bedd-4336-898d-15ec4654ccba",
   "metadata": {},
   "source": [
    "## Kaggle Submission"
   ]
  },
  {
   "cell_type": "code",
   "execution_count": 43,
   "id": "e5b12e14-55b4-4913-b9c4-decbf9c20de9",
   "metadata": {},
   "outputs": [],
   "source": [
    "dftest = pd.read_csv(\"./test.csv\")"
   ]
  },
  {
   "cell_type": "code",
   "execution_count": 46,
   "id": "9a8cbdf6-ff45-4b48-bd51-bc754106a52e",
   "metadata": {},
   "outputs": [
    {
     "data": {
      "text/html": [
       "<div>\n",
       "<style scoped>\n",
       "    .dataframe tbody tr th:only-of-type {\n",
       "        vertical-align: middle;\n",
       "    }\n",
       "\n",
       "    .dataframe tbody tr th {\n",
       "        vertical-align: top;\n",
       "    }\n",
       "\n",
       "    .dataframe thead th {\n",
       "        text-align: right;\n",
       "    }\n",
       "</style>\n",
       "<table border=\"1\" class=\"dataframe\">\n",
       "  <thead>\n",
       "    <tr style=\"text-align: right;\">\n",
       "      <th></th>\n",
       "      <th>Id</th>\n",
       "      <th>PID</th>\n",
       "      <th>MS_SubClass</th>\n",
       "      <th>MS_Zoning</th>\n",
       "      <th>Lot_Frontage</th>\n",
       "      <th>Lot_Area</th>\n",
       "      <th>Street</th>\n",
       "      <th>Alley</th>\n",
       "      <th>Lot_Shape</th>\n",
       "      <th>Land_Contour</th>\n",
       "      <th>...</th>\n",
       "      <th>3Ssn_Porch</th>\n",
       "      <th>Screen_Porch</th>\n",
       "      <th>Pool_Area</th>\n",
       "      <th>Pool_QC</th>\n",
       "      <th>Fence</th>\n",
       "      <th>Misc_Feature</th>\n",
       "      <th>Misc_Val</th>\n",
       "      <th>Mo_Sold</th>\n",
       "      <th>Yr_Sold</th>\n",
       "      <th>Sale_Type</th>\n",
       "    </tr>\n",
       "  </thead>\n",
       "  <tbody>\n",
       "    <tr>\n",
       "      <th>0</th>\n",
       "      <td>2658</td>\n",
       "      <td>902301120</td>\n",
       "      <td>190</td>\n",
       "      <td>RM</td>\n",
       "      <td>69.0</td>\n",
       "      <td>9142</td>\n",
       "      <td>Pave</td>\n",
       "      <td>Grvl</td>\n",
       "      <td>Reg</td>\n",
       "      <td>Lvl</td>\n",
       "      <td>...</td>\n",
       "      <td>0</td>\n",
       "      <td>0</td>\n",
       "      <td>0</td>\n",
       "      <td>NaN</td>\n",
       "      <td>NaN</td>\n",
       "      <td>NaN</td>\n",
       "      <td>0</td>\n",
       "      <td>4</td>\n",
       "      <td>2006</td>\n",
       "      <td>WD</td>\n",
       "    </tr>\n",
       "    <tr>\n",
       "      <th>1</th>\n",
       "      <td>2718</td>\n",
       "      <td>905108090</td>\n",
       "      <td>90</td>\n",
       "      <td>RL</td>\n",
       "      <td>NaN</td>\n",
       "      <td>9662</td>\n",
       "      <td>Pave</td>\n",
       "      <td>NaN</td>\n",
       "      <td>IR1</td>\n",
       "      <td>Lvl</td>\n",
       "      <td>...</td>\n",
       "      <td>0</td>\n",
       "      <td>0</td>\n",
       "      <td>0</td>\n",
       "      <td>NaN</td>\n",
       "      <td>NaN</td>\n",
       "      <td>NaN</td>\n",
       "      <td>0</td>\n",
       "      <td>8</td>\n",
       "      <td>2006</td>\n",
       "      <td>WD</td>\n",
       "    </tr>\n",
       "    <tr>\n",
       "      <th>2</th>\n",
       "      <td>2414</td>\n",
       "      <td>528218130</td>\n",
       "      <td>60</td>\n",
       "      <td>RL</td>\n",
       "      <td>58.0</td>\n",
       "      <td>17104</td>\n",
       "      <td>Pave</td>\n",
       "      <td>NaN</td>\n",
       "      <td>IR1</td>\n",
       "      <td>Lvl</td>\n",
       "      <td>...</td>\n",
       "      <td>0</td>\n",
       "      <td>0</td>\n",
       "      <td>0</td>\n",
       "      <td>NaN</td>\n",
       "      <td>NaN</td>\n",
       "      <td>NaN</td>\n",
       "      <td>0</td>\n",
       "      <td>9</td>\n",
       "      <td>2006</td>\n",
       "      <td>New</td>\n",
       "    </tr>\n",
       "    <tr>\n",
       "      <th>3</th>\n",
       "      <td>1989</td>\n",
       "      <td>902207150</td>\n",
       "      <td>30</td>\n",
       "      <td>RM</td>\n",
       "      <td>60.0</td>\n",
       "      <td>8520</td>\n",
       "      <td>Pave</td>\n",
       "      <td>NaN</td>\n",
       "      <td>Reg</td>\n",
       "      <td>Lvl</td>\n",
       "      <td>...</td>\n",
       "      <td>0</td>\n",
       "      <td>0</td>\n",
       "      <td>0</td>\n",
       "      <td>NaN</td>\n",
       "      <td>NaN</td>\n",
       "      <td>NaN</td>\n",
       "      <td>0</td>\n",
       "      <td>7</td>\n",
       "      <td>2007</td>\n",
       "      <td>WD</td>\n",
       "    </tr>\n",
       "    <tr>\n",
       "      <th>4</th>\n",
       "      <td>625</td>\n",
       "      <td>535105100</td>\n",
       "      <td>20</td>\n",
       "      <td>RL</td>\n",
       "      <td>NaN</td>\n",
       "      <td>9500</td>\n",
       "      <td>Pave</td>\n",
       "      <td>NaN</td>\n",
       "      <td>IR1</td>\n",
       "      <td>Lvl</td>\n",
       "      <td>...</td>\n",
       "      <td>0</td>\n",
       "      <td>185</td>\n",
       "      <td>0</td>\n",
       "      <td>NaN</td>\n",
       "      <td>NaN</td>\n",
       "      <td>NaN</td>\n",
       "      <td>0</td>\n",
       "      <td>7</td>\n",
       "      <td>2009</td>\n",
       "      <td>WD</td>\n",
       "    </tr>\n",
       "  </tbody>\n",
       "</table>\n",
       "<p>5 rows × 80 columns</p>\n",
       "</div>"
      ],
      "text/plain": [
       "     Id        PID  MS_SubClass MS_Zoning  Lot_Frontage  Lot_Area Street  \\\n",
       "0  2658  902301120          190        RM          69.0      9142   Pave   \n",
       "1  2718  905108090           90        RL           NaN      9662   Pave   \n",
       "2  2414  528218130           60        RL          58.0     17104   Pave   \n",
       "3  1989  902207150           30        RM          60.0      8520   Pave   \n",
       "4   625  535105100           20        RL           NaN      9500   Pave   \n",
       "\n",
       "  Alley Lot_Shape Land_Contour  ... 3Ssn_Porch Screen_Porch Pool_Area Pool_QC  \\\n",
       "0  Grvl       Reg          Lvl  ...          0            0         0     NaN   \n",
       "1   NaN       IR1          Lvl  ...          0            0         0     NaN   \n",
       "2   NaN       IR1          Lvl  ...          0            0         0     NaN   \n",
       "3   NaN       Reg          Lvl  ...          0            0         0     NaN   \n",
       "4   NaN       IR1          Lvl  ...          0          185         0     NaN   \n",
       "\n",
       "  Fence Misc_Feature Misc_Val Mo_Sold  Yr_Sold  Sale_Type  \n",
       "0   NaN          NaN        0       4     2006        WD   \n",
       "1   NaN          NaN        0       8     2006        WD   \n",
       "2   NaN          NaN        0       9     2006        New  \n",
       "3   NaN          NaN        0       7     2007        WD   \n",
       "4   NaN          NaN        0       7     2009        WD   \n",
       "\n",
       "[5 rows x 80 columns]"
      ]
     },
     "execution_count": 46,
     "metadata": {},
     "output_type": "execute_result"
    }
   ],
   "source": [
    "dftest.columns = dftest.columns.str.replace(' ', '_')\n",
    "dftest.head()"
   ]
  },
  {
   "cell_type": "code",
   "execution_count": 47,
   "id": "98cca8db-7afb-4eba-ab5f-23a4041b48d6",
   "metadata": {},
   "outputs": [
    {
     "data": {
      "text/html": [
       "<div>\n",
       "<style scoped>\n",
       "    .dataframe tbody tr th:only-of-type {\n",
       "        vertical-align: middle;\n",
       "    }\n",
       "\n",
       "    .dataframe tbody tr th {\n",
       "        vertical-align: top;\n",
       "    }\n",
       "\n",
       "    .dataframe thead th {\n",
       "        text-align: right;\n",
       "    }\n",
       "</style>\n",
       "<table border=\"1\" class=\"dataframe\">\n",
       "  <thead>\n",
       "    <tr style=\"text-align: right;\">\n",
       "      <th></th>\n",
       "      <th>Id</th>\n",
       "      <th>PID</th>\n",
       "      <th>MS_SubClass</th>\n",
       "      <th>MS_Zoning</th>\n",
       "      <th>Lot_Frontage</th>\n",
       "      <th>Lot_Area</th>\n",
       "      <th>Street</th>\n",
       "      <th>Alley</th>\n",
       "      <th>Lot_Shape</th>\n",
       "      <th>Land_Contour</th>\n",
       "      <th>...</th>\n",
       "      <th>3Ssn_Porch</th>\n",
       "      <th>Screen_Porch</th>\n",
       "      <th>Pool_Area</th>\n",
       "      <th>Pool_QC</th>\n",
       "      <th>Fence</th>\n",
       "      <th>Misc_Feature</th>\n",
       "      <th>Misc_Val</th>\n",
       "      <th>Mo_Sold</th>\n",
       "      <th>Yr_Sold</th>\n",
       "      <th>Sale_Type</th>\n",
       "    </tr>\n",
       "  </thead>\n",
       "  <tbody>\n",
       "    <tr>\n",
       "      <th>0</th>\n",
       "      <td>2658</td>\n",
       "      <td>902301120</td>\n",
       "      <td>190</td>\n",
       "      <td>RM</td>\n",
       "      <td>69.0</td>\n",
       "      <td>9142</td>\n",
       "      <td>Pave</td>\n",
       "      <td>Grvl</td>\n",
       "      <td>Reg</td>\n",
       "      <td>Lvl</td>\n",
       "      <td>...</td>\n",
       "      <td>0</td>\n",
       "      <td>0</td>\n",
       "      <td>0</td>\n",
       "      <td>0</td>\n",
       "      <td>0</td>\n",
       "      <td>0</td>\n",
       "      <td>0</td>\n",
       "      <td>4</td>\n",
       "      <td>2006</td>\n",
       "      <td>WD</td>\n",
       "    </tr>\n",
       "    <tr>\n",
       "      <th>1</th>\n",
       "      <td>2718</td>\n",
       "      <td>905108090</td>\n",
       "      <td>90</td>\n",
       "      <td>RL</td>\n",
       "      <td>0.0</td>\n",
       "      <td>9662</td>\n",
       "      <td>Pave</td>\n",
       "      <td>0</td>\n",
       "      <td>IR1</td>\n",
       "      <td>Lvl</td>\n",
       "      <td>...</td>\n",
       "      <td>0</td>\n",
       "      <td>0</td>\n",
       "      <td>0</td>\n",
       "      <td>0</td>\n",
       "      <td>0</td>\n",
       "      <td>0</td>\n",
       "      <td>0</td>\n",
       "      <td>8</td>\n",
       "      <td>2006</td>\n",
       "      <td>WD</td>\n",
       "    </tr>\n",
       "    <tr>\n",
       "      <th>2</th>\n",
       "      <td>2414</td>\n",
       "      <td>528218130</td>\n",
       "      <td>60</td>\n",
       "      <td>RL</td>\n",
       "      <td>58.0</td>\n",
       "      <td>17104</td>\n",
       "      <td>Pave</td>\n",
       "      <td>0</td>\n",
       "      <td>IR1</td>\n",
       "      <td>Lvl</td>\n",
       "      <td>...</td>\n",
       "      <td>0</td>\n",
       "      <td>0</td>\n",
       "      <td>0</td>\n",
       "      <td>0</td>\n",
       "      <td>0</td>\n",
       "      <td>0</td>\n",
       "      <td>0</td>\n",
       "      <td>9</td>\n",
       "      <td>2006</td>\n",
       "      <td>New</td>\n",
       "    </tr>\n",
       "    <tr>\n",
       "      <th>3</th>\n",
       "      <td>1989</td>\n",
       "      <td>902207150</td>\n",
       "      <td>30</td>\n",
       "      <td>RM</td>\n",
       "      <td>60.0</td>\n",
       "      <td>8520</td>\n",
       "      <td>Pave</td>\n",
       "      <td>0</td>\n",
       "      <td>Reg</td>\n",
       "      <td>Lvl</td>\n",
       "      <td>...</td>\n",
       "      <td>0</td>\n",
       "      <td>0</td>\n",
       "      <td>0</td>\n",
       "      <td>0</td>\n",
       "      <td>0</td>\n",
       "      <td>0</td>\n",
       "      <td>0</td>\n",
       "      <td>7</td>\n",
       "      <td>2007</td>\n",
       "      <td>WD</td>\n",
       "    </tr>\n",
       "    <tr>\n",
       "      <th>4</th>\n",
       "      <td>625</td>\n",
       "      <td>535105100</td>\n",
       "      <td>20</td>\n",
       "      <td>RL</td>\n",
       "      <td>0.0</td>\n",
       "      <td>9500</td>\n",
       "      <td>Pave</td>\n",
       "      <td>0</td>\n",
       "      <td>IR1</td>\n",
       "      <td>Lvl</td>\n",
       "      <td>...</td>\n",
       "      <td>0</td>\n",
       "      <td>185</td>\n",
       "      <td>0</td>\n",
       "      <td>0</td>\n",
       "      <td>0</td>\n",
       "      <td>0</td>\n",
       "      <td>0</td>\n",
       "      <td>7</td>\n",
       "      <td>2009</td>\n",
       "      <td>WD</td>\n",
       "    </tr>\n",
       "  </tbody>\n",
       "</table>\n",
       "<p>5 rows × 80 columns</p>\n",
       "</div>"
      ],
      "text/plain": [
       "     Id        PID  MS_SubClass MS_Zoning  Lot_Frontage  Lot_Area Street  \\\n",
       "0  2658  902301120          190        RM          69.0      9142   Pave   \n",
       "1  2718  905108090           90        RL           0.0      9662   Pave   \n",
       "2  2414  528218130           60        RL          58.0     17104   Pave   \n",
       "3  1989  902207150           30        RM          60.0      8520   Pave   \n",
       "4   625  535105100           20        RL           0.0      9500   Pave   \n",
       "\n",
       "  Alley Lot_Shape Land_Contour  ... 3Ssn_Porch Screen_Porch Pool_Area Pool_QC  \\\n",
       "0  Grvl       Reg          Lvl  ...          0            0         0       0   \n",
       "1     0       IR1          Lvl  ...          0            0         0       0   \n",
       "2     0       IR1          Lvl  ...          0            0         0       0   \n",
       "3     0       Reg          Lvl  ...          0            0         0       0   \n",
       "4     0       IR1          Lvl  ...          0          185         0       0   \n",
       "\n",
       "  Fence Misc_Feature Misc_Val Mo_Sold  Yr_Sold  Sale_Type  \n",
       "0     0            0        0       4     2006        WD   \n",
       "1     0            0        0       8     2006        WD   \n",
       "2     0            0        0       9     2006        New  \n",
       "3     0            0        0       7     2007        WD   \n",
       "4     0            0        0       7     2009        WD   \n",
       "\n",
       "[5 rows x 80 columns]"
      ]
     },
     "execution_count": 47,
     "metadata": {},
     "output_type": "execute_result"
    }
   ],
   "source": [
    "dftest.fillna(0, inplace = True)\n",
    "dftest.head()\n"
   ]
  },
  {
   "cell_type": "code",
   "execution_count": 48,
   "id": "e3620481-9ed2-403e-b5de-458416c0ff15",
   "metadata": {},
   "outputs": [],
   "source": [
    "X = dftest[['Overall_Qual', 'Year_Built', 'Total_Bsmt_SF','1st_Flr_SF','Gr_Liv_Area','Garage_Cars','Garage_Area']]"
   ]
  },
  {
   "cell_type": "code",
   "execution_count": 51,
   "id": "7de9490f-78c3-4628-92ba-af2a7c938ce4",
   "metadata": {},
   "outputs": [
    {
     "data": {
      "text/plain": [
       "array([167755.96383431, 209486.2445623 , 198515.38465403, 114966.48642671,\n",
       "       182534.57418735,  89257.7542612 ,  98147.15820188, 141357.70159894,\n",
       "       216069.09634145, 175968.43796586, 177488.19877156, 138515.41240117,\n",
       "       176326.63743252, 294168.09426429, 160821.75985081])"
      ]
     },
     "execution_count": 51,
     "metadata": {},
     "output_type": "execute_result"
    }
   ],
   "source": [
    "kagglepreds = lr.predict(X)\n",
    "kagglepreds[:15]"
   ]
  },
  {
   "cell_type": "code",
   "execution_count": 52,
   "id": "f4bb814c-3c96-424b-ab42-13a3ba519ac0",
   "metadata": {},
   "outputs": [
    {
     "data": {
      "text/html": [
       "<div>\n",
       "<style scoped>\n",
       "    .dataframe tbody tr th:only-of-type {\n",
       "        vertical-align: middle;\n",
       "    }\n",
       "\n",
       "    .dataframe tbody tr th {\n",
       "        vertical-align: top;\n",
       "    }\n",
       "\n",
       "    .dataframe thead th {\n",
       "        text-align: right;\n",
       "    }\n",
       "</style>\n",
       "<table border=\"1\" class=\"dataframe\">\n",
       "  <thead>\n",
       "    <tr style=\"text-align: right;\">\n",
       "      <th></th>\n",
       "      <th>Id</th>\n",
       "      <th>PID</th>\n",
       "      <th>MS_SubClass</th>\n",
       "      <th>MS_Zoning</th>\n",
       "      <th>Lot_Frontage</th>\n",
       "      <th>Lot_Area</th>\n",
       "      <th>Street</th>\n",
       "      <th>Alley</th>\n",
       "      <th>Lot_Shape</th>\n",
       "      <th>Land_Contour</th>\n",
       "      <th>...</th>\n",
       "      <th>Screen_Porch</th>\n",
       "      <th>Pool_Area</th>\n",
       "      <th>Pool_QC</th>\n",
       "      <th>Fence</th>\n",
       "      <th>Misc_Feature</th>\n",
       "      <th>Misc_Val</th>\n",
       "      <th>Mo_Sold</th>\n",
       "      <th>Yr_Sold</th>\n",
       "      <th>Sale_Type</th>\n",
       "      <th>SalePrice</th>\n",
       "    </tr>\n",
       "  </thead>\n",
       "  <tbody>\n",
       "    <tr>\n",
       "      <th>0</th>\n",
       "      <td>2658</td>\n",
       "      <td>902301120</td>\n",
       "      <td>190</td>\n",
       "      <td>RM</td>\n",
       "      <td>69.0</td>\n",
       "      <td>9142</td>\n",
       "      <td>Pave</td>\n",
       "      <td>Grvl</td>\n",
       "      <td>Reg</td>\n",
       "      <td>Lvl</td>\n",
       "      <td>...</td>\n",
       "      <td>0</td>\n",
       "      <td>0</td>\n",
       "      <td>0</td>\n",
       "      <td>0</td>\n",
       "      <td>0</td>\n",
       "      <td>0</td>\n",
       "      <td>4</td>\n",
       "      <td>2006</td>\n",
       "      <td>WD</td>\n",
       "      <td>167755.963834</td>\n",
       "    </tr>\n",
       "    <tr>\n",
       "      <th>1</th>\n",
       "      <td>2718</td>\n",
       "      <td>905108090</td>\n",
       "      <td>90</td>\n",
       "      <td>RL</td>\n",
       "      <td>0.0</td>\n",
       "      <td>9662</td>\n",
       "      <td>Pave</td>\n",
       "      <td>0</td>\n",
       "      <td>IR1</td>\n",
       "      <td>Lvl</td>\n",
       "      <td>...</td>\n",
       "      <td>0</td>\n",
       "      <td>0</td>\n",
       "      <td>0</td>\n",
       "      <td>0</td>\n",
       "      <td>0</td>\n",
       "      <td>0</td>\n",
       "      <td>8</td>\n",
       "      <td>2006</td>\n",
       "      <td>WD</td>\n",
       "      <td>209486.244562</td>\n",
       "    </tr>\n",
       "    <tr>\n",
       "      <th>2</th>\n",
       "      <td>2414</td>\n",
       "      <td>528218130</td>\n",
       "      <td>60</td>\n",
       "      <td>RL</td>\n",
       "      <td>58.0</td>\n",
       "      <td>17104</td>\n",
       "      <td>Pave</td>\n",
       "      <td>0</td>\n",
       "      <td>IR1</td>\n",
       "      <td>Lvl</td>\n",
       "      <td>...</td>\n",
       "      <td>0</td>\n",
       "      <td>0</td>\n",
       "      <td>0</td>\n",
       "      <td>0</td>\n",
       "      <td>0</td>\n",
       "      <td>0</td>\n",
       "      <td>9</td>\n",
       "      <td>2006</td>\n",
       "      <td>New</td>\n",
       "      <td>198515.384654</td>\n",
       "    </tr>\n",
       "    <tr>\n",
       "      <th>3</th>\n",
       "      <td>1989</td>\n",
       "      <td>902207150</td>\n",
       "      <td>30</td>\n",
       "      <td>RM</td>\n",
       "      <td>60.0</td>\n",
       "      <td>8520</td>\n",
       "      <td>Pave</td>\n",
       "      <td>0</td>\n",
       "      <td>Reg</td>\n",
       "      <td>Lvl</td>\n",
       "      <td>...</td>\n",
       "      <td>0</td>\n",
       "      <td>0</td>\n",
       "      <td>0</td>\n",
       "      <td>0</td>\n",
       "      <td>0</td>\n",
       "      <td>0</td>\n",
       "      <td>7</td>\n",
       "      <td>2007</td>\n",
       "      <td>WD</td>\n",
       "      <td>114966.486427</td>\n",
       "    </tr>\n",
       "    <tr>\n",
       "      <th>4</th>\n",
       "      <td>625</td>\n",
       "      <td>535105100</td>\n",
       "      <td>20</td>\n",
       "      <td>RL</td>\n",
       "      <td>0.0</td>\n",
       "      <td>9500</td>\n",
       "      <td>Pave</td>\n",
       "      <td>0</td>\n",
       "      <td>IR1</td>\n",
       "      <td>Lvl</td>\n",
       "      <td>...</td>\n",
       "      <td>185</td>\n",
       "      <td>0</td>\n",
       "      <td>0</td>\n",
       "      <td>0</td>\n",
       "      <td>0</td>\n",
       "      <td>0</td>\n",
       "      <td>7</td>\n",
       "      <td>2009</td>\n",
       "      <td>WD</td>\n",
       "      <td>182534.574187</td>\n",
       "    </tr>\n",
       "  </tbody>\n",
       "</table>\n",
       "<p>5 rows × 81 columns</p>\n",
       "</div>"
      ],
      "text/plain": [
       "     Id        PID  MS_SubClass MS_Zoning  Lot_Frontage  Lot_Area Street  \\\n",
       "0  2658  902301120          190        RM          69.0      9142   Pave   \n",
       "1  2718  905108090           90        RL           0.0      9662   Pave   \n",
       "2  2414  528218130           60        RL          58.0     17104   Pave   \n",
       "3  1989  902207150           30        RM          60.0      8520   Pave   \n",
       "4   625  535105100           20        RL           0.0      9500   Pave   \n",
       "\n",
       "  Alley Lot_Shape Land_Contour  ... Screen_Porch Pool_Area Pool_QC Fence  \\\n",
       "0  Grvl       Reg          Lvl  ...            0         0       0     0   \n",
       "1     0       IR1          Lvl  ...            0         0       0     0   \n",
       "2     0       IR1          Lvl  ...            0         0       0     0   \n",
       "3     0       Reg          Lvl  ...            0         0       0     0   \n",
       "4     0       IR1          Lvl  ...          185         0       0     0   \n",
       "\n",
       "  Misc_Feature Misc_Val Mo_Sold Yr_Sold  Sale_Type      SalePrice  \n",
       "0            0        0       4    2006        WD   167755.963834  \n",
       "1            0        0       8    2006        WD   209486.244562  \n",
       "2            0        0       9    2006        New  198515.384654  \n",
       "3            0        0       7    2007        WD   114966.486427  \n",
       "4            0        0       7    2009        WD   182534.574187  \n",
       "\n",
       "[5 rows x 81 columns]"
      ]
     },
     "execution_count": 52,
     "metadata": {},
     "output_type": "execute_result"
    }
   ],
   "source": [
    "dftest['SalePrice'] = kagglepreds\n",
    "dftest.head()"
   ]
  },
  {
   "cell_type": "code",
   "execution_count": 54,
   "id": "5f0a3ff1-5c84-4291-9493-cbd7f7501abc",
   "metadata": {},
   "outputs": [
    {
     "data": {
      "text/html": [
       "<div>\n",
       "<style scoped>\n",
       "    .dataframe tbody tr th:only-of-type {\n",
       "        vertical-align: middle;\n",
       "    }\n",
       "\n",
       "    .dataframe tbody tr th {\n",
       "        vertical-align: top;\n",
       "    }\n",
       "\n",
       "    .dataframe thead th {\n",
       "        text-align: right;\n",
       "    }\n",
       "</style>\n",
       "<table border=\"1\" class=\"dataframe\">\n",
       "  <thead>\n",
       "    <tr style=\"text-align: right;\">\n",
       "      <th></th>\n",
       "      <th>Id</th>\n",
       "      <th>SalePrice</th>\n",
       "    </tr>\n",
       "  </thead>\n",
       "  <tbody>\n",
       "    <tr>\n",
       "      <th>0</th>\n",
       "      <td>2658</td>\n",
       "      <td>167755.963834</td>\n",
       "    </tr>\n",
       "    <tr>\n",
       "      <th>1</th>\n",
       "      <td>2718</td>\n",
       "      <td>209486.244562</td>\n",
       "    </tr>\n",
       "    <tr>\n",
       "      <th>2</th>\n",
       "      <td>2414</td>\n",
       "      <td>198515.384654</td>\n",
       "    </tr>\n",
       "    <tr>\n",
       "      <th>3</th>\n",
       "      <td>1989</td>\n",
       "      <td>114966.486427</td>\n",
       "    </tr>\n",
       "    <tr>\n",
       "      <th>4</th>\n",
       "      <td>625</td>\n",
       "      <td>182534.574187</td>\n",
       "    </tr>\n",
       "  </tbody>\n",
       "</table>\n",
       "</div>"
      ],
      "text/plain": [
       "     Id      SalePrice\n",
       "0  2658  167755.963834\n",
       "1  2718  209486.244562\n",
       "2  2414  198515.384654\n",
       "3  1989  114966.486427\n",
       "4   625  182534.574187"
      ]
     },
     "execution_count": 54,
     "metadata": {},
     "output_type": "execute_result"
    }
   ],
   "source": [
    "submission = dftest[['Id', 'SalePrice']]\n",
    "submission.head()"
   ]
  },
  {
   "cell_type": "code",
   "execution_count": 55,
   "id": "6cc7c9f3-a290-4e4e-a331-003a507a046e",
   "metadata": {},
   "outputs": [],
   "source": [
    "submission.to_csv('submission1.csv', index = False)"
   ]
  },
  {
   "cell_type": "code",
   "execution_count": null,
   "id": "f0b083d2-f4e9-47ee-9a4d-fa307b1ecb1d",
   "metadata": {},
   "outputs": [],
   "source": []
  }
 ],
 "metadata": {
  "kernelspec": {
   "display_name": "Python 3 (ipykernel)",
   "language": "python",
   "name": "python3"
  },
  "language_info": {
   "codemirror_mode": {
    "name": "ipython",
    "version": 3
   },
   "file_extension": ".py",
   "mimetype": "text/x-python",
   "name": "python",
   "nbconvert_exporter": "python",
   "pygments_lexer": "ipython3",
   "version": "3.9.13"
  }
 },
 "nbformat": 4,
 "nbformat_minor": 5
}
