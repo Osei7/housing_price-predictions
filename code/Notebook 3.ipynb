{
 "cells": [
  {
   "cell_type": "markdown",
   "id": "18ba4cb8-7246-44c1-8b00-a4602094e047",
   "metadata": {},
   "source": [
    "# Notebook 3 - Lasso, & Ridge"
   ]
  },
  {
   "cell_type": "markdown",
   "id": "d267323b-feee-4b66-9e3b-2a1c6c2ccc58",
   "metadata": {},
   "source": [
    "### Running Imports"
   ]
  },
  {
   "cell_type": "code",
   "execution_count": 16,
   "id": "eb6b3f0a-12fc-46ed-adf4-b0c3b5304637",
   "metadata": {},
   "outputs": [],
   "source": [
    "import pandas as pd \n",
    "import numpy as np\n",
    "import seaborn as sns\n",
    "import matplotlib.pyplot as plt\n",
    "from sklearn.model_selection import train_test_split, cross_val_score\n",
    "from sklearn.linear_model import LinearRegression\n",
    "from sklearn.preprocessing import StandardScaler, PolynomialFeatures\n",
    "from sklearn.linear_model import Ridge\n",
    "from sklearn.linear_model import RidgeCV\n",
    "from sklearn.linear_model import Lasso, LassoCV"
   ]
  },
  {
   "cell_type": "markdown",
   "id": "faa32c98-a9b9-49b7-91ab-c8065e2f1371",
   "metadata": {},
   "source": [
    "### Importing data set and cleaning column titles"
   ]
  },
  {
   "cell_type": "code",
   "execution_count": 34,
   "id": "0869cf85-2c95-4f7d-80b2-bc31e735aaaa",
   "metadata": {},
   "outputs": [
    {
     "data": {
      "text/html": [
       "<div>\n",
       "<style scoped>\n",
       "    .dataframe tbody tr th:only-of-type {\n",
       "        vertical-align: middle;\n",
       "    }\n",
       "\n",
       "    .dataframe tbody tr th {\n",
       "        vertical-align: top;\n",
       "    }\n",
       "\n",
       "    .dataframe thead th {\n",
       "        text-align: right;\n",
       "    }\n",
       "</style>\n",
       "<table border=\"1\" class=\"dataframe\">\n",
       "  <thead>\n",
       "    <tr style=\"text-align: right;\">\n",
       "      <th></th>\n",
       "      <th>Id</th>\n",
       "      <th>PID</th>\n",
       "      <th>MS_SubClass</th>\n",
       "      <th>MS_Zoning</th>\n",
       "      <th>Lot_Frontage</th>\n",
       "      <th>Lot_Area</th>\n",
       "      <th>Street</th>\n",
       "      <th>Alley</th>\n",
       "      <th>Lot_Shape</th>\n",
       "      <th>Land_Contour</th>\n",
       "      <th>...</th>\n",
       "      <th>Screen_Porch</th>\n",
       "      <th>Pool_Area</th>\n",
       "      <th>Pool_QC</th>\n",
       "      <th>Fence</th>\n",
       "      <th>Misc_Feature</th>\n",
       "      <th>Misc_Val</th>\n",
       "      <th>Mo_Sold</th>\n",
       "      <th>Yr_Sold</th>\n",
       "      <th>Sale_Type</th>\n",
       "      <th>SalePrice</th>\n",
       "    </tr>\n",
       "  </thead>\n",
       "  <tbody>\n",
       "    <tr>\n",
       "      <th>0</th>\n",
       "      <td>109</td>\n",
       "      <td>533352170</td>\n",
       "      <td>60</td>\n",
       "      <td>RL</td>\n",
       "      <td>NaN</td>\n",
       "      <td>13517</td>\n",
       "      <td>Pave</td>\n",
       "      <td>NaN</td>\n",
       "      <td>IR1</td>\n",
       "      <td>Lvl</td>\n",
       "      <td>...</td>\n",
       "      <td>0</td>\n",
       "      <td>0</td>\n",
       "      <td>NaN</td>\n",
       "      <td>NaN</td>\n",
       "      <td>NaN</td>\n",
       "      <td>0</td>\n",
       "      <td>3</td>\n",
       "      <td>2010</td>\n",
       "      <td>WD</td>\n",
       "      <td>130500</td>\n",
       "    </tr>\n",
       "    <tr>\n",
       "      <th>1</th>\n",
       "      <td>544</td>\n",
       "      <td>531379050</td>\n",
       "      <td>60</td>\n",
       "      <td>RL</td>\n",
       "      <td>43.0</td>\n",
       "      <td>11492</td>\n",
       "      <td>Pave</td>\n",
       "      <td>NaN</td>\n",
       "      <td>IR1</td>\n",
       "      <td>Lvl</td>\n",
       "      <td>...</td>\n",
       "      <td>0</td>\n",
       "      <td>0</td>\n",
       "      <td>NaN</td>\n",
       "      <td>NaN</td>\n",
       "      <td>NaN</td>\n",
       "      <td>0</td>\n",
       "      <td>4</td>\n",
       "      <td>2009</td>\n",
       "      <td>WD</td>\n",
       "      <td>220000</td>\n",
       "    </tr>\n",
       "    <tr>\n",
       "      <th>2</th>\n",
       "      <td>153</td>\n",
       "      <td>535304180</td>\n",
       "      <td>20</td>\n",
       "      <td>RL</td>\n",
       "      <td>68.0</td>\n",
       "      <td>7922</td>\n",
       "      <td>Pave</td>\n",
       "      <td>NaN</td>\n",
       "      <td>Reg</td>\n",
       "      <td>Lvl</td>\n",
       "      <td>...</td>\n",
       "      <td>0</td>\n",
       "      <td>0</td>\n",
       "      <td>NaN</td>\n",
       "      <td>NaN</td>\n",
       "      <td>NaN</td>\n",
       "      <td>0</td>\n",
       "      <td>1</td>\n",
       "      <td>2010</td>\n",
       "      <td>WD</td>\n",
       "      <td>109000</td>\n",
       "    </tr>\n",
       "    <tr>\n",
       "      <th>3</th>\n",
       "      <td>318</td>\n",
       "      <td>916386060</td>\n",
       "      <td>60</td>\n",
       "      <td>RL</td>\n",
       "      <td>73.0</td>\n",
       "      <td>9802</td>\n",
       "      <td>Pave</td>\n",
       "      <td>NaN</td>\n",
       "      <td>Reg</td>\n",
       "      <td>Lvl</td>\n",
       "      <td>...</td>\n",
       "      <td>0</td>\n",
       "      <td>0</td>\n",
       "      <td>NaN</td>\n",
       "      <td>NaN</td>\n",
       "      <td>NaN</td>\n",
       "      <td>0</td>\n",
       "      <td>4</td>\n",
       "      <td>2010</td>\n",
       "      <td>WD</td>\n",
       "      <td>174000</td>\n",
       "    </tr>\n",
       "    <tr>\n",
       "      <th>4</th>\n",
       "      <td>255</td>\n",
       "      <td>906425045</td>\n",
       "      <td>50</td>\n",
       "      <td>RL</td>\n",
       "      <td>82.0</td>\n",
       "      <td>14235</td>\n",
       "      <td>Pave</td>\n",
       "      <td>NaN</td>\n",
       "      <td>IR1</td>\n",
       "      <td>Lvl</td>\n",
       "      <td>...</td>\n",
       "      <td>0</td>\n",
       "      <td>0</td>\n",
       "      <td>NaN</td>\n",
       "      <td>NaN</td>\n",
       "      <td>NaN</td>\n",
       "      <td>0</td>\n",
       "      <td>3</td>\n",
       "      <td>2010</td>\n",
       "      <td>WD</td>\n",
       "      <td>138500</td>\n",
       "    </tr>\n",
       "  </tbody>\n",
       "</table>\n",
       "<p>5 rows × 81 columns</p>\n",
       "</div>"
      ],
      "text/plain": [
       "    Id        PID  MS_SubClass MS_Zoning  Lot_Frontage  Lot_Area Street Alley  \\\n",
       "0  109  533352170           60        RL           NaN     13517   Pave   NaN   \n",
       "1  544  531379050           60        RL          43.0     11492   Pave   NaN   \n",
       "2  153  535304180           20        RL          68.0      7922   Pave   NaN   \n",
       "3  318  916386060           60        RL          73.0      9802   Pave   NaN   \n",
       "4  255  906425045           50        RL          82.0     14235   Pave   NaN   \n",
       "\n",
       "  Lot_Shape Land_Contour  ... Screen_Porch Pool_Area Pool_QC Fence  \\\n",
       "0       IR1          Lvl  ...            0         0     NaN   NaN   \n",
       "1       IR1          Lvl  ...            0         0     NaN   NaN   \n",
       "2       Reg          Lvl  ...            0         0     NaN   NaN   \n",
       "3       Reg          Lvl  ...            0         0     NaN   NaN   \n",
       "4       IR1          Lvl  ...            0         0     NaN   NaN   \n",
       "\n",
       "  Misc_Feature Misc_Val Mo_Sold Yr_Sold  Sale_Type  SalePrice  \n",
       "0          NaN        0       3    2010        WD      130500  \n",
       "1          NaN        0       4    2009        WD      220000  \n",
       "2          NaN        0       1    2010        WD      109000  \n",
       "3          NaN        0       4    2010        WD      174000  \n",
       "4          NaN        0       3    2010        WD      138500  \n",
       "\n",
       "[5 rows x 81 columns]"
      ]
     },
     "execution_count": 34,
     "metadata": {},
     "output_type": "execute_result"
    }
   ],
   "source": [
    "dftrain = pd.read_csv(\"./datasets/train.csv\")\n",
    "\n",
    "dftrain.columns = dftrain.columns.str.replace(' ', '_')\n",
    "dftrain.head()"
   ]
  },
  {
   "cell_type": "code",
   "execution_count": 7,
   "id": "04c4995c-7a33-4d77-9aae-1339be38864f",
   "metadata": {},
   "outputs": [
    {
     "data": {
      "text/html": [
       "<div>\n",
       "<style scoped>\n",
       "    .dataframe tbody tr th:only-of-type {\n",
       "        vertical-align: middle;\n",
       "    }\n",
       "\n",
       "    .dataframe tbody tr th {\n",
       "        vertical-align: top;\n",
       "    }\n",
       "\n",
       "    .dataframe thead th {\n",
       "        text-align: right;\n",
       "    }\n",
       "</style>\n",
       "<table border=\"1\" class=\"dataframe\">\n",
       "  <thead>\n",
       "    <tr style=\"text-align: right;\">\n",
       "      <th></th>\n",
       "      <th>Id</th>\n",
       "      <th>PID</th>\n",
       "      <th>MS_SubClass</th>\n",
       "      <th>MS_Zoning</th>\n",
       "      <th>Lot_Frontage</th>\n",
       "      <th>Lot_Area</th>\n",
       "      <th>Street</th>\n",
       "      <th>Alley</th>\n",
       "      <th>Lot_Shape</th>\n",
       "      <th>Land_Contour</th>\n",
       "      <th>...</th>\n",
       "      <th>Screen_Porch</th>\n",
       "      <th>Pool_Area</th>\n",
       "      <th>Pool_QC</th>\n",
       "      <th>Fence</th>\n",
       "      <th>Misc_Feature</th>\n",
       "      <th>Misc_Val</th>\n",
       "      <th>Mo_Sold</th>\n",
       "      <th>Yr_Sold</th>\n",
       "      <th>Sale_Type</th>\n",
       "      <th>SalePrice</th>\n",
       "    </tr>\n",
       "  </thead>\n",
       "  <tbody>\n",
       "    <tr>\n",
       "      <th>0</th>\n",
       "      <td>109</td>\n",
       "      <td>533352170</td>\n",
       "      <td>60</td>\n",
       "      <td>RL</td>\n",
       "      <td>NaN</td>\n",
       "      <td>13517</td>\n",
       "      <td>Pave</td>\n",
       "      <td>NaN</td>\n",
       "      <td>IR1</td>\n",
       "      <td>Lvl</td>\n",
       "      <td>...</td>\n",
       "      <td>0</td>\n",
       "      <td>0</td>\n",
       "      <td>NaN</td>\n",
       "      <td>NaN</td>\n",
       "      <td>NaN</td>\n",
       "      <td>0</td>\n",
       "      <td>3</td>\n",
       "      <td>2010</td>\n",
       "      <td>WD</td>\n",
       "      <td>130500</td>\n",
       "    </tr>\n",
       "    <tr>\n",
       "      <th>1</th>\n",
       "      <td>544</td>\n",
       "      <td>531379050</td>\n",
       "      <td>60</td>\n",
       "      <td>RL</td>\n",
       "      <td>43.0</td>\n",
       "      <td>11492</td>\n",
       "      <td>Pave</td>\n",
       "      <td>NaN</td>\n",
       "      <td>IR1</td>\n",
       "      <td>Lvl</td>\n",
       "      <td>...</td>\n",
       "      <td>0</td>\n",
       "      <td>0</td>\n",
       "      <td>NaN</td>\n",
       "      <td>NaN</td>\n",
       "      <td>NaN</td>\n",
       "      <td>0</td>\n",
       "      <td>4</td>\n",
       "      <td>2009</td>\n",
       "      <td>WD</td>\n",
       "      <td>220000</td>\n",
       "    </tr>\n",
       "    <tr>\n",
       "      <th>2</th>\n",
       "      <td>153</td>\n",
       "      <td>535304180</td>\n",
       "      <td>20</td>\n",
       "      <td>RL</td>\n",
       "      <td>68.0</td>\n",
       "      <td>7922</td>\n",
       "      <td>Pave</td>\n",
       "      <td>NaN</td>\n",
       "      <td>Reg</td>\n",
       "      <td>Lvl</td>\n",
       "      <td>...</td>\n",
       "      <td>0</td>\n",
       "      <td>0</td>\n",
       "      <td>NaN</td>\n",
       "      <td>NaN</td>\n",
       "      <td>NaN</td>\n",
       "      <td>0</td>\n",
       "      <td>1</td>\n",
       "      <td>2010</td>\n",
       "      <td>WD</td>\n",
       "      <td>109000</td>\n",
       "    </tr>\n",
       "    <tr>\n",
       "      <th>3</th>\n",
       "      <td>318</td>\n",
       "      <td>916386060</td>\n",
       "      <td>60</td>\n",
       "      <td>RL</td>\n",
       "      <td>73.0</td>\n",
       "      <td>9802</td>\n",
       "      <td>Pave</td>\n",
       "      <td>NaN</td>\n",
       "      <td>Reg</td>\n",
       "      <td>Lvl</td>\n",
       "      <td>...</td>\n",
       "      <td>0</td>\n",
       "      <td>0</td>\n",
       "      <td>NaN</td>\n",
       "      <td>NaN</td>\n",
       "      <td>NaN</td>\n",
       "      <td>0</td>\n",
       "      <td>4</td>\n",
       "      <td>2010</td>\n",
       "      <td>WD</td>\n",
       "      <td>174000</td>\n",
       "    </tr>\n",
       "    <tr>\n",
       "      <th>4</th>\n",
       "      <td>255</td>\n",
       "      <td>906425045</td>\n",
       "      <td>50</td>\n",
       "      <td>RL</td>\n",
       "      <td>82.0</td>\n",
       "      <td>14235</td>\n",
       "      <td>Pave</td>\n",
       "      <td>NaN</td>\n",
       "      <td>IR1</td>\n",
       "      <td>Lvl</td>\n",
       "      <td>...</td>\n",
       "      <td>0</td>\n",
       "      <td>0</td>\n",
       "      <td>NaN</td>\n",
       "      <td>NaN</td>\n",
       "      <td>NaN</td>\n",
       "      <td>0</td>\n",
       "      <td>3</td>\n",
       "      <td>2010</td>\n",
       "      <td>WD</td>\n",
       "      <td>138500</td>\n",
       "    </tr>\n",
       "  </tbody>\n",
       "</table>\n",
       "<p>5 rows × 81 columns</p>\n",
       "</div>"
      ],
      "text/plain": [
       "    Id        PID  MS_SubClass MS_Zoning  Lot_Frontage  Lot_Area Street Alley  \\\n",
       "0  109  533352170           60        RL           NaN     13517   Pave   NaN   \n",
       "1  544  531379050           60        RL          43.0     11492   Pave   NaN   \n",
       "2  153  535304180           20        RL          68.0      7922   Pave   NaN   \n",
       "3  318  916386060           60        RL          73.0      9802   Pave   NaN   \n",
       "4  255  906425045           50        RL          82.0     14235   Pave   NaN   \n",
       "\n",
       "  Lot_Shape Land_Contour  ... Screen_Porch Pool_Area Pool_QC Fence  \\\n",
       "0       IR1          Lvl  ...            0         0     NaN   NaN   \n",
       "1       IR1          Lvl  ...            0         0     NaN   NaN   \n",
       "2       Reg          Lvl  ...            0         0     NaN   NaN   \n",
       "3       Reg          Lvl  ...            0         0     NaN   NaN   \n",
       "4       IR1          Lvl  ...            0         0     NaN   NaN   \n",
       "\n",
       "  Misc_Feature Misc_Val Mo_Sold Yr_Sold  Sale_Type  SalePrice  \n",
       "0          NaN        0       3    2010        WD      130500  \n",
       "1          NaN        0       4    2009        WD      220000  \n",
       "2          NaN        0       1    2010        WD      109000  \n",
       "3          NaN        0       4    2010        WD      174000  \n",
       "4          NaN        0       3    2010        WD      138500  \n",
       "\n",
       "[5 rows x 81 columns]"
      ]
     },
     "execution_count": 7,
     "metadata": {},
     "output_type": "execute_result"
    }
   ],
   "source": []
  },
  {
   "cell_type": "markdown",
   "id": "094faeb6-f146-4c41-ba32-f5691631c7c8",
   "metadata": {},
   "source": [
    "### Correlation & Cleaning"
   ]
  },
  {
   "cell_type": "code",
   "execution_count": 11,
   "id": "7f8de7a3-2efe-4730-92e3-e21781b90206",
   "metadata": {},
   "outputs": [
    {
     "data": {
      "text/plain": [
       "(2051, 81)"
      ]
     },
     "execution_count": 11,
     "metadata": {},
     "output_type": "execute_result"
    }
   ],
   "source": [
    "dftrain.shape"
   ]
  },
  {
   "cell_type": "code",
   "execution_count": 8,
   "id": "f4abd3af-0f64-4fdf-a19d-1b516a0f08a8",
   "metadata": {},
   "outputs": [
    {
     "data": {
      "text/plain": [
       "Id                int64\n",
       "PID               int64\n",
       "MS_SubClass       int64\n",
       "MS_Zoning        object\n",
       "Lot_Frontage    float64\n",
       "                 ...   \n",
       "Misc_Val          int64\n",
       "Mo_Sold           int64\n",
       "Yr_Sold           int64\n",
       "Sale_Type        object\n",
       "SalePrice         int64\n",
       "Length: 81, dtype: object"
      ]
     },
     "execution_count": 8,
     "metadata": {},
     "output_type": "execute_result"
    }
   ],
   "source": [
    "dftrain.dtypes"
   ]
  },
  {
   "cell_type": "code",
   "execution_count": 9,
   "id": "30a973fd-2618-4862-9cfb-8b1baae67358",
   "metadata": {},
   "outputs": [
    {
     "data": {
      "text/plain": [
       "Id                0\n",
       "PID               0\n",
       "MS_SubClass       0\n",
       "MS_Zoning         0\n",
       "Lot_Frontage    330\n",
       "               ... \n",
       "Misc_Val          0\n",
       "Mo_Sold           0\n",
       "Yr_Sold           0\n",
       "Sale_Type         0\n",
       "SalePrice         0\n",
       "Length: 81, dtype: int64"
      ]
     },
     "execution_count": 9,
     "metadata": {},
     "output_type": "execute_result"
    }
   ],
   "source": [
    "dftrain.isnull().sum()"
   ]
  },
  {
   "cell_type": "code",
   "execution_count": 10,
   "id": "ccf52d0c-6aa1-4794-aa07-2c5978dd4223",
   "metadata": {},
   "outputs": [
    {
     "data": {
      "text/plain": [
       "Id                -0.051398\n",
       "PID               -0.255052\n",
       "MS_SubClass       -0.087335\n",
       "Lot_Frontage       0.341842\n",
       "Lot_Area           0.296566\n",
       "Overall_Qual       0.800207\n",
       "Overall_Cond      -0.097019\n",
       "Year_Built         0.571849\n",
       "Year_Remod/Add     0.550370\n",
       "Mas_Vnr_Area       0.512230\n",
       "BsmtFin_SF_1       0.423519\n",
       "BsmtFin_SF_2       0.016255\n",
       "Bsmt_Unf_SF        0.190210\n",
       "Total_Bsmt_SF      0.628925\n",
       "1st_Flr_SF         0.618486\n",
       "2nd_Flr_SF         0.248452\n",
       "Low_Qual_Fin_SF   -0.041594\n",
       "Gr_Liv_Area        0.697038\n",
       "Bsmt_Full_Bath     0.283662\n",
       "Bsmt_Half_Bath    -0.045328\n",
       "Full_Bath          0.537969\n",
       "Half_Bath          0.283001\n",
       "Bedroom_AbvGr      0.137067\n",
       "Kitchen_AbvGr     -0.125444\n",
       "TotRms_AbvGrd      0.504014\n",
       "Fireplaces         0.471093\n",
       "Garage_Yr_Blt      0.533922\n",
       "Garage_Cars        0.648220\n",
       "Garage_Area        0.650270\n",
       "Wood_Deck_SF       0.326490\n",
       "Open_Porch_SF      0.333476\n",
       "Enclosed_Porch    -0.135656\n",
       "3Ssn_Porch         0.048732\n",
       "Screen_Porch       0.134581\n",
       "Pool_Area          0.023106\n",
       "Misc_Val          -0.007375\n",
       "Mo_Sold            0.032735\n",
       "Yr_Sold           -0.015203\n",
       "SalePrice          1.000000\n",
       "Name: SalePrice, dtype: float64"
      ]
     },
     "execution_count": 10,
     "metadata": {},
     "output_type": "execute_result"
    }
   ],
   "source": [
    "dftrain.corr()['SalePrice']"
   ]
  },
  {
   "cell_type": "code",
   "execution_count": 12,
   "id": "77ab6b36-0052-4eec-b34d-24fee611ae6c",
   "metadata": {},
   "outputs": [
    {
     "data": {
      "text/plain": [
       "Id                -0.051398\n",
       "PID               -0.255052\n",
       "MS_SubClass       -0.087335\n",
       "Lot_Frontage       0.341842\n",
       "Lot_Area           0.296566\n",
       "Overall_Qual       0.800207\n",
       "Overall_Cond      -0.097019\n",
       "Year_Built         0.571849\n",
       "Year_Remod/Add     0.550370\n",
       "Mas_Vnr_Area       0.512230\n",
       "BsmtFin_SF_1       0.423519\n",
       "BsmtFin_SF_2       0.016255\n",
       "Bsmt_Unf_SF        0.190210\n",
       "Total_Bsmt_SF      0.628925\n",
       "1st_Flr_SF         0.618486\n",
       "2nd_Flr_SF         0.248452\n",
       "Low_Qual_Fin_SF   -0.041594\n",
       "Gr_Liv_Area        0.697038\n",
       "Bsmt_Full_Bath     0.283662\n",
       "Bsmt_Half_Bath    -0.045328\n",
       "Full_Bath          0.537969\n",
       "Half_Bath          0.283001\n",
       "Bedroom_AbvGr      0.137067\n",
       "Kitchen_AbvGr     -0.125444\n",
       "TotRms_AbvGrd      0.504014\n",
       "Fireplaces         0.471093\n",
       "Garage_Yr_Blt      0.533922\n",
       "Garage_Cars        0.648220\n",
       "Garage_Area        0.650270\n",
       "Wood_Deck_SF       0.326490\n",
       "Open_Porch_SF      0.333476\n",
       "Enclosed_Porch    -0.135656\n",
       "3Ssn_Porch         0.048732\n",
       "Screen_Porch       0.134581\n",
       "Pool_Area          0.023106\n",
       "Misc_Val          -0.007375\n",
       "Mo_Sold            0.032735\n",
       "Yr_Sold           -0.015203\n",
       "SalePrice          1.000000\n",
       "Name: SalePrice, dtype: float64"
      ]
     },
     "execution_count": 12,
     "metadata": {},
     "output_type": "execute_result"
    }
   ],
   "source": [
    "dftrain.corr()['SalePrice']"
   ]
  },
  {
   "cell_type": "code",
   "execution_count": 13,
   "id": "f6cbb8aa-50c9-4675-a7e1-c3f067937337",
   "metadata": {},
   "outputs": [],
   "source": [
    "tempfeat = dftrain[['SalePrice','Overall_Qual', 'Year_Built', 'Total_Bsmt_SF','1st_Flr_SF','Gr_Liv_Area','Garage_Cars','Garage_Area']]"
   ]
  },
  {
   "cell_type": "code",
   "execution_count": 14,
   "id": "0c10e780-91be-454e-86c8-a2b601e5c426",
   "metadata": {},
   "outputs": [
    {
     "data": {
      "text/plain": [
       "SalePrice          int64\n",
       "Overall_Qual       int64\n",
       "Year_Built         int64\n",
       "Total_Bsmt_SF    float64\n",
       "1st_Flr_SF         int64\n",
       "Gr_Liv_Area        int64\n",
       "Garage_Cars      float64\n",
       "Garage_Area      float64\n",
       "dtype: object"
      ]
     },
     "execution_count": 14,
     "metadata": {},
     "output_type": "execute_result"
    }
   ],
   "source": [
    "tempfeat.dtypes"
   ]
  },
  {
   "cell_type": "code",
   "execution_count": 23,
   "id": "34e5e5c5-d17f-48c2-93dd-13afec5ee3fd",
   "metadata": {},
   "outputs": [],
   "source": [
    "dftrain.fillna(0, inplace = True)"
   ]
  },
  {
   "cell_type": "code",
   "execution_count": 24,
   "id": "4d03a07a-5dbc-4b4c-8ba6-decc39336e2d",
   "metadata": {},
   "outputs": [],
   "source": [
    "X = dftrain[['Overall_Qual', 'Year_Built', 'Total_Bsmt_SF','1st_Flr_SF','Gr_Liv_Area','Garage_Cars','Garage_Area']]\n",
    "y = dftrain['SalePrice']"
   ]
  },
  {
   "cell_type": "code",
   "execution_count": 25,
   "id": "e4d1df66-13ae-4cde-bf1b-2f7e5174bcdb",
   "metadata": {},
   "outputs": [],
   "source": [
    "X_train, X_test, y_train, y_test = train_test_split(X, y, random_state=42)\n"
   ]
  },
  {
   "cell_type": "code",
   "execution_count": 26,
   "id": "55dabac7-92c8-4d94-9fee-b372cd5099bb",
   "metadata": {},
   "outputs": [],
   "source": [
    "sc = StandardScaler()\n",
    "Z_train = sc.fit_transform(X_train)\n",
    "Z_test = sc.transform(X_test)"
   ]
  },
  {
   "cell_type": "markdown",
   "id": "19632e80-6c84-43fc-9bff-0bab9f971add",
   "metadata": {},
   "source": [
    "### Ridge Model"
   ]
  },
  {
   "cell_type": "code",
   "execution_count": 27,
   "id": "0dc1ae76-d48d-49c2-ab49-03a02a743acf",
   "metadata": {},
   "outputs": [],
   "source": [
    "ridge = Ridge()"
   ]
  },
  {
   "cell_type": "code",
   "execution_count": 28,
   "id": "99d859de-3d65-4235-9e8d-2ed8d922f64f",
   "metadata": {},
   "outputs": [
    {
     "data": {
      "text/plain": [
       "Ridge()"
      ]
     },
     "execution_count": 28,
     "metadata": {},
     "output_type": "execute_result"
    }
   ],
   "source": [
    "ridge.fit(Z_train, y_train)"
   ]
  },
  {
   "cell_type": "code",
   "execution_count": 29,
   "id": "af64a781-4fdd-4222-b055-f8c43d87aa2f",
   "metadata": {},
   "outputs": [
    {
     "name": "stdout",
     "output_type": "stream",
     "text": [
      "0.7712262564085136\n",
      "0.832996730843366\n"
     ]
    }
   ],
   "source": [
    "print(ridge.score(Z_train, y_train))\n",
    "print(ridge.score(Z_test, y_test))"
   ]
  },
  {
   "cell_type": "markdown",
   "id": "23b51147-aa49-4692-a429-d29e51586bbf",
   "metadata": {},
   "source": [
    "### LASSO Model"
   ]
  },
  {
   "cell_type": "code",
   "execution_count": 30,
   "id": "b33c9823-4f5f-4cd1-bfef-8b2dcb30fae9",
   "metadata": {},
   "outputs": [],
   "source": [
    "sc = StandardScaler()\n",
    "Z_lassotrain = sc.fit_transform(X_train)\n",
    "Z_lassotest = sc.transform(X_test)"
   ]
  },
  {
   "cell_type": "code",
   "execution_count": 31,
   "id": "a8e79599-5ce2-4259-a5e4-34b8e2199812",
   "metadata": {},
   "outputs": [],
   "source": [
    "lasso_cv = LassoCV()"
   ]
  },
  {
   "cell_type": "code",
   "execution_count": 32,
   "id": "0cb5db69-cf40-40f3-bff6-d653aa11a7e4",
   "metadata": {},
   "outputs": [
    {
     "data": {
      "text/plain": [
       "LassoCV()"
      ]
     },
     "execution_count": 32,
     "metadata": {},
     "output_type": "execute_result"
    }
   ],
   "source": [
    "lasso_cv.fit(Z_lassotrain, y_train)"
   ]
  },
  {
   "cell_type": "code",
   "execution_count": 35,
   "id": "6b195675-228e-4a42-9b89-400fb2478a5a",
   "metadata": {},
   "outputs": [
    {
     "data": {
      "text/plain": [
       "678.6238001413606"
      ]
     },
     "execution_count": 35,
     "metadata": {},
     "output_type": "execute_result"
    }
   ],
   "source": [
    "lasso_cv.alpha_"
   ]
  },
  {
   "cell_type": "code",
   "execution_count": 36,
   "id": "6e8c1507-5cfe-4dd4-9a95-4487f38ad63f",
   "metadata": {},
   "outputs": [
    {
     "name": "stdout",
     "output_type": "stream",
     "text": [
      "0.7710963235769791\n",
      "0.8315358794185387\n"
     ]
    }
   ],
   "source": [
    "print(lasso_cv.score(Z_lassotrain, y_train))\n",
    "print(lasso_cv.score(Z_lassotest, y_test))"
   ]
  },
  {
   "cell_type": "markdown",
   "id": "e92100f0-c84e-4b82-b562-5ee0f0c14eca",
   "metadata": {},
   "source": [
    "accounts for 83% of variability in sales price holding all else equal"
   ]
  }
 ],
 "metadata": {
  "kernelspec": {
   "display_name": "Python 3 (ipykernel)",
   "language": "python",
   "name": "python3"
  },
  "language_info": {
   "codemirror_mode": {
    "name": "ipython",
    "version": 3
   },
   "file_extension": ".py",
   "mimetype": "text/x-python",
   "name": "python",
   "nbconvert_exporter": "python",
   "pygments_lexer": "ipython3",
   "version": "3.9.13"
  }
 },
 "nbformat": 4,
 "nbformat_minor": 5
}
